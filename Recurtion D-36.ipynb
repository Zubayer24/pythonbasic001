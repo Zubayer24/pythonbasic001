{
 "cells": [
  {
   "cell_type": "code",
   "execution_count": 17,
   "id": "53ed6fd2",
   "metadata": {},
   "outputs": [],
   "source": [
    "def fact(x):\n",
    "    if x ==0 or x ==1:\n",
    "        return 1\n",
    "    return x* fact(x-1)"
   ]
  },
  {
   "cell_type": "code",
   "execution_count": 18,
   "id": "032d42b0",
   "metadata": {},
   "outputs": [
    {
     "data": {
      "text/plain": [
       "120"
      ]
     },
     "execution_count": 18,
     "metadata": {},
     "output_type": "execute_result"
    }
   ],
   "source": [
    "fact(5)"
   ]
  },
  {
   "cell_type": "code",
   "execution_count": 19,
   "id": "89e28435",
   "metadata": {},
   "outputs": [
    {
     "data": {
      "text/plain": [
       "720"
      ]
     },
     "execution_count": 19,
     "metadata": {},
     "output_type": "execute_result"
    }
   ],
   "source": [
    "fact(6)"
   ]
  },
  {
   "cell_type": "code",
   "execution_count": null,
   "id": "b524ad2c",
   "metadata": {},
   "outputs": [],
   "source": [
    "def web():\n",
    "    print(\"Ai quest.org\")\n",
    "    web()\n",
    "web()"
   ]
  },
  {
   "cell_type": "code",
   "execution_count": 21,
   "id": "1dc5b9f8",
   "metadata": {},
   "outputs": [
    {
     "data": {
      "text/plain": [
       "3000"
      ]
     },
     "execution_count": 21,
     "metadata": {},
     "output_type": "execute_result"
    }
   ],
   "source": [
    "import sys \n",
    "sys.getrecursionlimit()\n"
   ]
  },
  {
   "cell_type": "code",
   "execution_count": null,
   "id": "87414941",
   "metadata": {},
   "outputs": [],
   "source": []
  }
 ],
 "metadata": {
  "kernelspec": {
   "display_name": "Python 3 (ipykernel)",
   "language": "python",
   "name": "python3"
  },
  "language_info": {
   "codemirror_mode": {
    "name": "ipython",
    "version": 3
   },
   "file_extension": ".py",
   "mimetype": "text/x-python",
   "name": "python",
   "nbconvert_exporter": "python",
   "pygments_lexer": "ipython3",
   "version": "3.11.5"
  }
 },
 "nbformat": 4,
 "nbformat_minor": 5
}
