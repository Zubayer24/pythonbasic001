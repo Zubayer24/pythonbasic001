{
 "cells": [
  {
   "cell_type": "code",
   "execution_count": 1,
   "id": "c3a12339",
   "metadata": {},
   "outputs": [],
   "source": [
    "import zipfile as zp\n",
    "zipp = zp.ZipFile('Zipped.zip','w')\n",
    "\n",
    "zipp.write('images.jpeg')\n",
    "zipp.write('SS.png')"
   ]
  },
  {
   "cell_type": "code",
   "execution_count": null,
   "id": "15e84b3c",
   "metadata": {},
   "outputs": [],
   "source": []
  }
 ],
 "metadata": {
  "kernelspec": {
   "display_name": "Python 3 (ipykernel)",
   "language": "python",
   "name": "python3"
  },
  "language_info": {
   "codemirror_mode": {
    "name": "ipython",
    "version": 3
   },
   "file_extension": ".py",
   "mimetype": "text/x-python",
   "name": "python",
   "nbconvert_exporter": "python",
   "pygments_lexer": "ipython3",
   "version": "3.11.5"
  }
 },
 "nbformat": 4,
 "nbformat_minor": 5
}
