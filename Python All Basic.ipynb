{
 "cells": [
  {
   "cell_type": "code",
   "execution_count": 1,
   "id": "d101625c",
   "metadata": {},
   "outputs": [
    {
     "name": "stdout",
     "output_type": "stream",
     "text": [
      "Hasan\n"
     ]
    }
   ],
   "source": [
    "print(\"Hasan\")"
   ]
  },
  {
   "cell_type": "code",
   "execution_count": 6,
   "id": "86bf3b76",
   "metadata": {},
   "outputs": [
    {
     "name": "stdout",
     "output_type": "stream",
     "text": [
      "hellow world & welcome to the Python all basic *"
     ]
    }
   ],
   "source": [
    "print(\"hellow world\",\"welcome to the Python all basic \", sep=\" & \" , end=\"*\")"
   ]
  },
  {
   "cell_type": "code",
   "execution_count": 7,
   "id": "58c48c56",
   "metadata": {},
   "outputs": [
    {
     "name": "stdout",
     "output_type": "stream",
     "text": [
      "Hellow world\n"
     ]
    }
   ],
   "source": [
    "Variable = 'Hellow world'\n",
    "print(Variable)"
   ]
  },
  {
   "cell_type": "code",
   "execution_count": 8,
   "id": "c612d598",
   "metadata": {},
   "outputs": [
    {
     "data": {
      "text/plain": [
       "1403636740912"
      ]
     },
     "execution_count": 8,
     "metadata": {},
     "output_type": "execute_result"
    }
   ],
   "source": [
    "id(Variable) #for id(address) of any variable."
   ]
  },
  {
   "cell_type": "code",
   "execution_count": 10,
   "id": "579ed584",
   "metadata": {},
   "outputs": [
    {
     "data": {
      "text/plain": [
       "61"
      ]
     },
     "execution_count": 10,
     "metadata": {},
     "output_type": "execute_result"
    }
   ],
   "source": [
    "import sys #for size of any variable.\n",
    "sys.getsizeof(Variable)"
   ]
  },
  {
   "cell_type": "code",
   "execution_count": null,
   "id": "6e8c7800",
   "metadata": {},
   "outputs": [],
   "source": []
  }
 ],
 "metadata": {
  "kernelspec": {
   "display_name": "Python 3 (ipykernel)",
   "language": "python",
   "name": "python3"
  },
  "language_info": {
   "codemirror_mode": {
    "name": "ipython",
    "version": 3
   },
   "file_extension": ".py",
   "mimetype": "text/x-python",
   "name": "python",
   "nbconvert_exporter": "python",
   "pygments_lexer": "ipython3",
   "version": "3.11.5"
  }
 },
 "nbformat": 4,
 "nbformat_minor": 5
}
