{
 "cells": [
  {
   "cell_type": "code",
   "execution_count": 2,
   "id": "e6708098",
   "metadata": {},
   "outputs": [
    {
     "name": "stdout",
     "output_type": "stream",
     "text": [
      "Enter your rectangular length: 20\n",
      "Enter your rectangular breadth: 20\n",
      "this is a square.\n"
     ]
    }
   ],
   "source": [
    "length = int(input(\"Enter your rectangular length: \"))\n",
    "breadth = int(input(\"Enter your rectangular breadth: \"))\n",
    "if length == breadth:\n",
    "    print(\"this is a square.\")\n",
    "else:\n",
    "    print(\"this is not a square.\")"
   ]
  },
  {
   "cell_type": "code",
   "execution_count": 6,
   "id": "c0ab49b6",
   "metadata": {},
   "outputs": [
    {
     "name": "stdout",
     "output_type": "stream",
     "text": [
      "Enter your 1st integer number: 10\n",
      "Enter your 2nd integer number: 10\n",
      "Enter your 3rd integer number: 20\n",
      "3rd integer is greatest among them.\n"
     ]
    }
   ],
   "source": [
    "int_1 = int(input(\"Enter your 1st integer number: \"))\n",
    "int_2 = int(input(\"Enter your 2nd integer number: \"))\n",
    "int_3 = int(input(\"Enter your 3rd integer number: \"))\n",
    "if int_1 >int_2:\n",
    "    if int_1>int_3:\n",
    "        print(\"1st integer is greatest among them.\")\n",
    "elif int_2>int_3:\n",
    "    if int_2>int_1:\n",
    "        print(\"2nd integer is greatest among them.\")\n",
    "else:\n",
    "    print(\"3rd integer is greatest among them.\" )"
   ]
  },
  {
   "cell_type": "code",
   "execution_count": 9,
   "id": "8ec7736b",
   "metadata": {},
   "outputs": [
    {
     "name": "stdout",
     "output_type": "stream",
     "text": [
      "Enter your attendance percentage number: 85\n",
      "Rizbi is allowed for exam.\n"
     ]
    }
   ],
   "source": [
    "Rizbi = int(input(\"Enter your attendance percentage number: \"))\n",
    "min_present = 75\n",
    "if Rizbi>=min_present:\n",
    "    print(\"Rizbi is allowed for exam.\")\n",
    "else:\n",
    "    print(\"Rizbi is not allowed for exam.\")"
   ]
  },
  {
   "cell_type": "code",
   "execution_count": 20,
   "id": "bde2c910",
   "metadata": {},
   "outputs": [
    {
     "name": "stdout",
     "output_type": "stream",
     "text": [
      "Enter your exam number: 20\n",
      "Alas!!!you are fail in the exam\n"
     ]
    }
   ],
   "source": [
    "grade = int(input(\"Enter your exam number: \"))\n",
    "if grade>=90:\n",
    "    print(\"congratulations!! you got A+ \")\n",
    "elif 80<= grade<= 89:\n",
    "    print(\"congratulations!! you got A\")\n",
    "elif 60<= grade<= 79:\n",
    "    print(\"congratulations!! you got B\")\n",
    "elif 50<= grade<=59:\n",
    "    print(\"congratulations!! you got C\")\n",
    "elif 45<= grade<= 49:\n",
    "    print(\"congratulations!! you got D\")\n",
    "elif 25<= grade<=44:\n",
    "    print(\"congratulations!! you got E\")\n",
    "else:\n",
    "    print(\"Alas!!!you are fail in the exam\")"
   ]
  },
  {
   "cell_type": "code",
   "execution_count": 25,
   "id": "1df6e8a1",
   "metadata": {},
   "outputs": [
    {
     "name": "stdout",
     "output_type": "stream",
     "text": [
      "Enter any number: 20\n",
      "20.0 Divisible by 5 and 2\n"
     ]
    }
   ],
   "source": [
    "num = float(input(\"Enter any number: \"))\n",
    "if num % 2 == 0 and num % 5 == 0:\n",
    "    print(num,\"Divisible by 5 and 2\")\n",
    "else:\n",
    "    print(\"No \")\n",
    "    "
   ]
  },
  {
   "cell_type": "code",
   "execution_count": 1,
   "id": "a7718a36",
   "metadata": {},
   "outputs": [
    {
     "name": "stdout",
     "output_type": "stream",
     "text": [
      "Enter any number: 20\n",
      "20.0 Divisible by 5 & 2\n"
     ]
    }
   ],
   "source": [
    "num = float(input(\"Enter any number: \"))\n",
    "if num % 2 ==0:\n",
    "    if num % 5 ==0:\n",
    "        print(num,\"Divisible by 5 & 2\")\n",
    "    else:\n",
    "        print(\"Divisible by only 2\")\n",
    "else:\n",
    "    print(\"No\")"
   ]
  },
  {
   "cell_type": "markdown",
   "id": "fd1eb853",
   "metadata": {},
   "source": [
    "# Practise Question: write a program to calculate the electricity bill (accept number of unit from user) according to the following criteria:\n",
    "#   unit                      -price\n",
    "# first 100 unit         -no charge\n",
    "# next 100 unit        -5TK per unit\n",
    "# after 200unit         -10Tk per unit(Extra 500 will be added)\n",
    "# (For example if input unit is 350 than total bill amount is TK 2000)"
   ]
  },
  {
   "cell_type": "code",
   "execution_count": 3,
   "id": "be31a73c",
   "metadata": {},
   "outputs": [
    {
     "name": "stdout",
     "output_type": "stream",
     "text": [
      "Enter your unit value: 200\n",
      "amount is  500.0\n"
     ]
    }
   ],
   "source": [
    "amount = 0\n",
    "net_unit = float(input(\"Enter your unit value: \"))\n",
    "\n",
    "if net_unit <=100:\n",
    "    amount = 0\n",
    "    price(\"amount is \",amount)\n",
    "elif net_unit > 100 and net_unit <=200:\n",
    "    amount = (net_unit - 100)*5\n",
    "    print(\"amount is \",amount)\n",
    "elif net_unit > 200:\n",
    "    amount = ((net_unit- 200)*10) + 500\n",
    "    print(\"amount is \",amount)"
   ]
  },
  {
   "cell_type": "code",
   "execution_count": 1,
   "id": "19d45dd6",
   "metadata": {},
   "outputs": [
    {
     "data": {
      "image/jpeg": "[encoded data removed]",
      "text/plain": [
       "<IPython.core.display.Image object>"
      ]
     },
     "execution_count": 1,
     "metadata": {},
     "output_type": "execute_result"
    }
   ],
   "source": [
    "from IPython.display import Image\n",
    "Image('images.jpeg')"
   ]
  },
  {
   "cell_type": "code",
   "execution_count": null,
   "id": "35ec1690",
   "metadata": {},
   "outputs": [],
   "source": []
  }
 ],
 "metadata": {
  "kernelspec": {
   "display_name": "Python 3 (ipykernel)",
   "language": "python",
   "name": "python3"
  },
  "language_info": {
   "codemirror_mode": {
    "name": "ipython",
    "version": 3
   },
   "file_extension": ".py",
   "mimetype": "text/x-python",
   "name": "python",
   "nbconvert_exporter": "python",
   "pygments_lexer": "ipython3",
   "version": "3.11.5"
  }
 },
 "nbformat": 4,
 "nbformat_minor": 5
}
