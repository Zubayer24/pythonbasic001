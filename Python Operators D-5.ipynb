{
 "cells": [
  {
   "cell_type": "markdown",
   "id": "61c53f9d",
   "metadata": {},
   "source": [
    "# Arithmatic operators"
   ]
  },
  {
   "cell_type": "code",
   "execution_count": 1,
   "id": "a87c98fe",
   "metadata": {},
   "outputs": [],
   "source": [
    "x = 15\n",
    "y = 4\n",
    "z = 5"
   ]
  },
  {
   "cell_type": "code",
   "execution_count": 2,
   "id": "9e85112e",
   "metadata": {},
   "outputs": [
    {
     "data": {
      "text/plain": [
       "19"
      ]
     },
     "execution_count": 2,
     "metadata": {},
     "output_type": "execute_result"
    }
   ],
   "source": [
    "x+y"
   ]
  },
  {
   "cell_type": "code",
   "execution_count": 3,
   "id": "46cc831c",
   "metadata": {},
   "outputs": [
    {
     "data": {
      "text/plain": [
       "11"
      ]
     },
     "execution_count": 3,
     "metadata": {},
     "output_type": "execute_result"
    }
   ],
   "source": [
    "x-y"
   ]
  },
  {
   "cell_type": "code",
   "execution_count": 4,
   "id": "48765df1",
   "metadata": {},
   "outputs": [
    {
     "data": {
      "text/plain": [
       "60"
      ]
     },
     "execution_count": 4,
     "metadata": {},
     "output_type": "execute_result"
    }
   ],
   "source": [
    "x*y"
   ]
  },
  {
   "cell_type": "code",
   "execution_count": 5,
   "id": "ad465a2c",
   "metadata": {},
   "outputs": [
    {
     "data": {
      "text/plain": [
       "3.75"
      ]
     },
     "execution_count": 5,
     "metadata": {},
     "output_type": "execute_result"
    }
   ],
   "source": [
    "x/y"
   ]
  },
  {
   "cell_type": "code",
   "execution_count": 6,
   "id": "98753757",
   "metadata": {},
   "outputs": [
    {
     "data": {
      "text/plain": [
       "50625"
      ]
     },
     "execution_count": 6,
     "metadata": {},
     "output_type": "execute_result"
    }
   ],
   "source": [
    "x**y"
   ]
  },
  {
   "cell_type": "code",
   "execution_count": 7,
   "id": "1868934c",
   "metadata": {},
   "outputs": [
    {
     "data": {
      "text/plain": [
       "3"
      ]
     },
     "execution_count": 7,
     "metadata": {},
     "output_type": "execute_result"
    }
   ],
   "source": [
    "x//y"
   ]
  },
  {
   "cell_type": "code",
   "execution_count": 8,
   "id": "ce410e26",
   "metadata": {},
   "outputs": [
    {
     "data": {
      "text/plain": [
       "3"
      ]
     },
     "execution_count": 8,
     "metadata": {},
     "output_type": "execute_result"
    }
   ],
   "source": [
    "import math  # using math module from library.\n",
    "math.floor(x/y)"
   ]
  },
  {
   "cell_type": "code",
   "execution_count": 9,
   "id": "449a7c96",
   "metadata": {},
   "outputs": [
    {
     "data": {
      "text/plain": [
       "4"
      ]
     },
     "execution_count": 9,
     "metadata": {},
     "output_type": "execute_result"
    }
   ],
   "source": [
    "math.ceil(x/y)  # ceil used for greater integer number."
   ]
  },
  {
   "cell_type": "markdown",
   "id": "53da4a0f",
   "metadata": {},
   "source": [
    "# Identity Operators"
   ]
  },
  {
   "cell_type": "code",
   "execution_count": 24,
   "id": "4147c3c1",
   "metadata": {},
   "outputs": [],
   "source": [
    "x1 = 456214\n",
    "y1 = x1\n",
    "z1 = 456214\n"
   ]
  },
  {
   "cell_type": "code",
   "execution_count": 25,
   "id": "9c67ba89",
   "metadata": {},
   "outputs": [
    {
     "data": {
      "text/plain": [
       "True"
      ]
     },
     "execution_count": 25,
     "metadata": {},
     "output_type": "execute_result"
    }
   ],
   "source": [
    "x1 is y1  #here, x&y both variables are in same address."
   ]
  },
  {
   "cell_type": "code",
   "execution_count": 26,
   "id": "95de0a3b",
   "metadata": {},
   "outputs": [
    {
     "data": {
      "text/plain": [
       "False"
      ]
     },
     "execution_count": 26,
     "metadata": {},
     "output_type": "execute_result"
    }
   ],
   "source": [
    "x1 is z1"
   ]
  },
  {
   "cell_type": "code",
   "execution_count": 27,
   "id": "effb14dc",
   "metadata": {},
   "outputs": [
    {
     "data": {
      "text/plain": [
       "2044173754128"
      ]
     },
     "execution_count": 27,
     "metadata": {},
     "output_type": "execute_result"
    }
   ],
   "source": [
    "id(x1)\n"
   ]
  },
  {
   "cell_type": "code",
   "execution_count": 28,
   "id": "d079756e",
   "metadata": {},
   "outputs": [
    {
     "data": {
      "text/plain": [
       "2044173754128"
      ]
     },
     "execution_count": 28,
     "metadata": {},
     "output_type": "execute_result"
    }
   ],
   "source": [
    "id(y1)"
   ]
  },
  {
   "cell_type": "code",
   "execution_count": 29,
   "id": "3d0b8d02",
   "metadata": {},
   "outputs": [
    {
     "data": {
      "text/plain": [
       "True"
      ]
     },
     "execution_count": 29,
     "metadata": {},
     "output_type": "execute_result"
    }
   ],
   "source": [
    "x1 == z1"
   ]
  },
  {
   "cell_type": "code",
   "execution_count": 30,
   "id": "4f76d4cf",
   "metadata": {},
   "outputs": [
    {
     "data": {
      "text/plain": [
       "True"
      ]
     },
     "execution_count": 30,
     "metadata": {},
     "output_type": "execute_result"
    }
   ],
   "source": [
    "x1 is not z1"
   ]
  },
  {
   "cell_type": "markdown",
   "id": "3068281b",
   "metadata": {},
   "source": [
    "# Membership Operators"
   ]
  },
  {
   "cell_type": "code",
   "execution_count": 31,
   "id": "8910fe15",
   "metadata": {},
   "outputs": [],
   "source": [
    "list1 = [1,2,3,4,5,6,7]  #Membership operators are used to test if a sequence is presented in an object."
   ]
  },
  {
   "cell_type": "code",
   "execution_count": 32,
   "id": "f7e3dabe",
   "metadata": {},
   "outputs": [
    {
     "data": {
      "text/plain": [
       "True"
      ]
     },
     "execution_count": 32,
     "metadata": {},
     "output_type": "execute_result"
    }
   ],
   "source": [
    "3 in list1"
   ]
  },
  {
   "cell_type": "code",
   "execution_count": 33,
   "id": "a5773df7",
   "metadata": {},
   "outputs": [
    {
     "data": {
      "text/plain": [
       "True"
      ]
     },
     "execution_count": 33,
     "metadata": {},
     "output_type": "execute_result"
    }
   ],
   "source": [
    "10 not in list1"
   ]
  },
  {
   "cell_type": "markdown",
   "id": "280a243b",
   "metadata": {},
   "source": [
    "# Bitwise Operators\n"
   ]
  },
  {
   "cell_type": "code",
   "execution_count": 35,
   "id": "659be510",
   "metadata": {},
   "outputs": [
    {
     "ename": "SyntaxError",
     "evalue": "leading zeros in decimal integer literals are not permitted; use an 0o prefix for octal integers (129165124.py, line 2)",
     "output_type": "error",
     "traceback": [
      "\u001b[1;36m  Cell \u001b[1;32mIn[35], line 2\u001b[1;36m\u001b[0m\n\u001b[1;33m    y = 0101  #5\u001b[0m\n\u001b[1;37m        ^\u001b[0m\n\u001b[1;31mSyntaxError\u001b[0m\u001b[1;31m:\u001b[0m leading zeros in decimal integer literals are not permitted; use an 0o prefix for octal integers\n"
     ]
    }
   ],
   "source": [
    "x = 1010  #10\n",
    "y = 0101  #5\n",
    "\n",
    "x & y = 0000  #Sets each bit to 1 if both bits are 1.\n",
    "x |y = 1111  #Sets each bit to 1 if one of two bits is 1.\n",
    "x^y = 1111  #Sets each bit to 1 if only one of two bits is 1."
   ]
  },
  {
   "cell_type": "code",
   "execution_count": 36,
   "id": "1eced1f0",
   "metadata": {},
   "outputs": [
    {
     "data": {
      "text/plain": [
       "0"
      ]
     },
     "execution_count": 36,
     "metadata": {},
     "output_type": "execute_result"
    }
   ],
   "source": [
    "x = 10\n",
    "y = 5\n",
    "\n",
    "x & y "
   ]
  },
  {
   "cell_type": "code",
   "execution_count": 37,
   "id": "e9574fa0",
   "metadata": {},
   "outputs": [
    {
     "data": {
      "text/plain": [
       "15"
      ]
     },
     "execution_count": 37,
     "metadata": {},
     "output_type": "execute_result"
    }
   ],
   "source": [
    "x|y"
   ]
  },
  {
   "cell_type": "code",
   "execution_count": 42,
   "id": "ca0f5ee7",
   "metadata": {},
   "outputs": [
    {
     "data": {
      "text/plain": [
       "15"
      ]
     },
     "execution_count": 42,
     "metadata": {},
     "output_type": "execute_result"
    }
   ],
   "source": [
    "x^y"
   ]
  },
  {
   "cell_type": "markdown",
   "id": "ade27235",
   "metadata": {},
   "source": [
    "# Logical Operators"
   ]
  },
  {
   "cell_type": "code",
   "execution_count": 38,
   "id": "cf6f90e9",
   "metadata": {},
   "outputs": [
    {
     "data": {
      "text/plain": [
       "False"
      ]
     },
     "execution_count": 38,
     "metadata": {},
     "output_type": "execute_result"
    }
   ],
   "source": [
    "10>4 and 10<3"
   ]
  },
  {
   "cell_type": "code",
   "execution_count": 39,
   "id": "c5561e6c",
   "metadata": {},
   "outputs": [
    {
     "data": {
      "text/plain": [
       "True"
      ]
     },
     "execution_count": 39,
     "metadata": {},
     "output_type": "execute_result"
    }
   ],
   "source": [
    "10>9 and 4<5"
   ]
  },
  {
   "cell_type": "code",
   "execution_count": 40,
   "id": "fab35b9d",
   "metadata": {},
   "outputs": [
    {
     "data": {
      "text/plain": [
       "True"
      ]
     },
     "execution_count": 40,
     "metadata": {},
     "output_type": "execute_result"
    }
   ],
   "source": [
    "10>4 or 10<3"
   ]
  },
  {
   "cell_type": "code",
   "execution_count": 41,
   "id": "92245c22",
   "metadata": {},
   "outputs": [
    {
     "data": {
      "text/plain": [
       "False"
      ]
     },
     "execution_count": 41,
     "metadata": {},
     "output_type": "execute_result"
    }
   ],
   "source": [
    "not(10>4 or 10<3)"
   ]
  },
  {
   "cell_type": "code",
   "execution_count": null,
   "id": "420a44ab",
   "metadata": {},
   "outputs": [],
   "source": []
  }
 ],
 "metadata": {
  "kernelspec": {
   "display_name": "Python 3 (ipykernel)",
   "language": "python",
   "name": "python3"
  },
  "language_info": {
   "codemirror_mode": {
    "name": "ipython",
    "version": 3
   },
   "file_extension": ".py",
   "mimetype": "text/x-python",
   "name": "python",
   "nbconvert_exporter": "python",
   "pygments_lexer": "ipython3",
   "version": "3.11.5"
  }
 },
 "nbformat": 4,
 "nbformat_minor": 5
}
