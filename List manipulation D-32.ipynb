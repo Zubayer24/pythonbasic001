{
 "cells": [
  {
   "cell_type": "code",
   "execution_count": 1,
   "id": "5696c7e8",
   "metadata": {},
   "outputs": [],
   "source": [
    "#Removing double value by using manipulation.\n",
    "def remove_duplicates(input_list):\n",
    "    unique_list = []\n",
    "    input_list = int(input(\"something\"))\n",
    "    for item in input_list:\n",
    "        if item not in unique_list:\n",
    "            unique_list.append(item)\n",
    "        \n",
    "    return unique_list"
   ]
  },
  {
   "cell_type": "code",
   "execution_count": 2,
   "id": "1af580fa",
   "metadata": {},
   "outputs": [
    {
     "data": {
      "text/plain": [
       "[5, 4, 5000, 1000, 4325, 65, 84752, 99]"
      ]
     },
     "execution_count": 2,
     "metadata": {},
     "output_type": "execute_result"
    }
   ],
   "source": [
    "input_list = [5,4,5000,1000,4325,65,84752,4325,5000,1000,99]\n",
    "remove_duplicates(input_list)"
   ]
  },
  {
   "cell_type": "code",
   "execution_count": 3,
   "id": "679fa339",
   "metadata": {},
   "outputs": [],
   "source": [
    "def out_duplicates(enter_list):\n",
    "    unique_list = []\n",
    "    \n",
    "    for item in enter_list:\n",
    "        if item not in unique_list:\n",
    "            unique_list.append(item)\n",
    "            \n",
    "    return unique_list"
   ]
  },
  {
   "cell_type": "code",
   "execution_count": 5,
   "id": "7b8f8695",
   "metadata": {},
   "outputs": [
    {
     "data": {
      "text/plain": [
       "[6, 5, 8, 7, 10, 2, 9]"
      ]
     },
     "execution_count": 5,
     "metadata": {},
     "output_type": "execute_result"
    }
   ],
   "source": [
    "enter_list = [6,5,8,7,10,2,5,8,9,10]\n",
    "out_duplicates(enter_list)"
   ]
  },
  {
   "cell_type": "code",
   "execution_count": 2,
   "id": "b2308951",
   "metadata": {},
   "outputs": [],
   "source": [
    "def remove_duplicates(enter_list):\n",
    "    unique_list = []\n",
    "    \n",
    "    for i in enter_list:\n",
    "        if i not in unique_list:\n",
    "            unique_list.append(i)\n",
    "            \n",
    "    return unique_list"
   ]
  },
  {
   "cell_type": "code",
   "execution_count": 3,
   "id": "70df5605",
   "metadata": {},
   "outputs": [
    {
     "data": {
      "text/plain": [
       "[5, 6, 7, 1, 4, 9, 8, 3, 2]"
      ]
     },
     "execution_count": 3,
     "metadata": {},
     "output_type": "execute_result"
    }
   ],
   "source": [
    "enter_list = [5,6,7,1,7,5,4,9,8,3,9,4,6,1,2]\n",
    "remove_duplicates(enter_list)"
   ]
  },
  {
   "cell_type": "markdown",
   "id": "08f30713",
   "metadata": {},
   "source": [
    "# creating Double value by using list manipulation"
   ]
  },
  {
   "cell_type": "code",
   "execution_count": 6,
   "id": "f2744e85",
   "metadata": {},
   "outputs": [],
   "source": [
    "def double_value(input_list):\n",
    "    unique_list = [item*2 for item in input_list]\n",
    "    return unique_list"
   ]
  },
  {
   "cell_type": "code",
   "execution_count": 8,
   "id": "a5689f60",
   "metadata": {},
   "outputs": [
    {
     "data": {
      "text/plain": [
       "[10, 8, 16, 14, 12]"
      ]
     },
     "execution_count": 8,
     "metadata": {},
     "output_type": "execute_result"
    }
   ],
   "source": [
    "input_list = [5,4,8,7,6]\n",
    "double_value(input_list)\n"
   ]
  },
  {
   "cell_type": "code",
   "execution_count": 4,
   "id": "de3d79ef",
   "metadata": {},
   "outputs": [],
   "source": [
    "def double_value(input_list):\n",
    "    unique_list = [item*2 for item in input_list]\n",
    "    \n",
    "    return unique_list"
   ]
  },
  {
   "cell_type": "code",
   "execution_count": 6,
   "id": "b415d6cc",
   "metadata": {},
   "outputs": [
    {
     "data": {
      "text/plain": [
       "[8, 10, 12, 14]"
      ]
     },
     "execution_count": 6,
     "metadata": {},
     "output_type": "execute_result"
    }
   ],
   "source": [
    "input_list = [4,5,6,7]\n",
    "double_value(input_list)\n"
   ]
  },
  {
   "cell_type": "code",
   "execution_count": null,
   "id": "f2b6a806",
   "metadata": {},
   "outputs": [],
   "source": []
  }
 ],
 "metadata": {
  "kernelspec": {
   "display_name": "Python 3 (ipykernel)",
   "language": "python",
   "name": "python3"
  },
  "language_info": {
   "codemirror_mode": {
    "name": "ipython",
    "version": 3
   },
   "file_extension": ".py",
   "mimetype": "text/x-python",
   "name": "python",
   "nbconvert_exporter": "python",
   "pygments_lexer": "ipython3",
   "version": "3.11.5"
  }
 },
 "nbformat": 4,
 "nbformat_minor": 5
}
