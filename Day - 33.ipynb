{
 "cells": [
  {
   "cell_type": "markdown",
   "id": "489018bf",
   "metadata": {},
   "source": [
    "# Problem 1: List Sum\n",
    "Write a Python function that takes a list of numbers as input and returns the sum of all the elements in the list. <br/>\n",
    "input_numbers = [1, 2, 3, 4, 5] <br/>\n",
    "Sum: 15"
   ]
  },
  {
   "cell_type": "code",
   "execution_count": 6,
   "id": "2b452fec",
   "metadata": {},
   "outputs": [],
   "source": [
    "def sum_num(my_list):\n",
    "    sum = 0\n",
    "    for item in my_list:\n",
    "        sum +=item\n",
    "    return sum"
   ]
  },
  {
   "cell_type": "code",
   "execution_count": 7,
   "id": "75508452",
   "metadata": {},
   "outputs": [
    {
     "name": "stdout",
     "output_type": "stream",
     "text": [
      "Enter the size of your list: 5\n",
      "Enter your list number: 1\n",
      "Enter your list number: 2\n",
      "Enter your list number: 3\n",
      "Enter your list number: 4\n",
      "Enter your list number: 5\n",
      "the sum of your list: 15\n"
     ]
    }
   ],
   "source": [
    "input_list = []\n",
    "list_size = int(input(\"Enter the size of your list: \"))\n",
    "for i in range(list_size):\n",
    "    temp_list = int(input(\"Enter your list number: \"))\n",
    "    input_list.append(temp_list)\n",
    "    \n",
    "print(\"the sum of your list:\",sum_num(input_list))\n",
    "    "
   ]
  },
  {
   "cell_type": "markdown",
   "id": "fe55c51b",
   "metadata": {},
   "source": [
    "# Problem 2: List Reversal\n",
    "Create a function that reverses a given list and returns the reversed list. <br>\n",
    "original_list = [10, 20, 30, 40, 50] <br>\n",
    "Reversed List: [50, 40, 30, 20, 10]\n"
   ]
  },
  {
   "cell_type": "code",
   "execution_count": 27,
   "id": "91571cbf",
   "metadata": {},
   "outputs": [],
   "source": [
    "def List_Reversal(original_list):\n",
    "    original_list = list(reversed(input_list))\n",
    "    return original_list"
   ]
  },
  {
   "cell_type": "code",
   "execution_count": 29,
   "id": "4f77d62d",
   "metadata": {},
   "outputs": [
    {
     "name": "stdout",
     "output_type": "stream",
     "text": [
      "Enter your list size: 5\n",
      "Enter your list : 10\n",
      "Enter your list : 20\n",
      "Enter your list : 30\n",
      "Enter your list : 40\n",
      "Enter your list : 50\n",
      "[50, 40, 30, 20, 10]\n"
     ]
    }
   ],
   "source": [
    "input_list = []\n",
    "list_size = int(input(\"Enter your list size: \"))\n",
    "for i in range(list_size):\n",
    "    my_list =int(input(\"Enter your list : \"))\n",
    "    input_list.append(my_list)\n",
    "print(List_Reversal(input_list))"
   ]
  },
  {
   "cell_type": "markdown",
   "id": "a7715d17",
   "metadata": {},
   "source": [
    "# Problem 3: List Even Numbers\n",
    "Write a function that takes a list of integers as input and returns a new list containing only the even numbers. <br>\n",
    "numbers = [1, 2, 3, 4, 5, 6, 7, 8, 9, 10] <br>\n",
    "Even Numbers: [2, 4, 6, 8, 10]"
   ]
  },
  {
   "cell_type": "code",
   "execution_count": 16,
   "id": "85c246e3",
   "metadata": {},
   "outputs": [],
   "source": [
    "def even_num(x):\n",
    "    for item in x:\n",
    "        if item%2==0:\n",
    "            print(item)"
   ]
  },
  {
   "cell_type": "code",
   "execution_count": 17,
   "id": "c4fb43f0",
   "metadata": {},
   "outputs": [
    {
     "name": "stdout",
     "output_type": "stream",
     "text": [
      "Enter your list size: 5\n",
      "Enter your list number: 1\n",
      "Enter your list number: 2\n",
      "Enter your list number: 3\n",
      "Enter your list number: 4\n",
      "Enter your list number: 5\n",
      "[1, 2, 3, 4, 5]\n"
     ]
    }
   ],
   "source": [
    "input_list = []\n",
    "list_size = int(input(\"Enter your list size: \"))\n",
    "for i in range(list_size):\n",
    "    my_list = int(input(\"Enter your list number: \"))\n",
    "    input_list.append(my_list)\n",
    "\n",
    "print(input_list)"
   ]
  },
  {
   "cell_type": "code",
   "execution_count": 19,
   "id": "b3694dad",
   "metadata": {},
   "outputs": [
    {
     "name": "stdout",
     "output_type": "stream",
     "text": [
      "2\n",
      "4\n"
     ]
    }
   ],
   "source": [
    "even_num(input_list)"
   ]
  },
  {
   "cell_type": "markdown",
   "id": "99bc42a1",
   "metadata": {},
   "source": [
    "# Problem 4: List Duplicates\n",
    "Create a function that finds and returns a list of unique elements from a given list. <br>\n",
    "elements = [1, 2, 2, 3, 4, 4, 5] <br>\n",
    "Unique Elements: [1, 2, 3, 4, 5]"
   ]
  },
  {
   "cell_type": "code",
   "execution_count": 20,
   "id": "b6673e31",
   "metadata": {},
   "outputs": [],
   "source": [
    "def remove_duplicates(input_list):\n",
    "    unique_list = []\n",
    "    for item in input_list:\n",
    "        if item not in unique_list:\n",
    "            unique_list.append(item)\n",
    "    return unique_list"
   ]
  },
  {
   "cell_type": "code",
   "execution_count": 22,
   "id": "283ea8c7",
   "metadata": {},
   "outputs": [
    {
     "name": "stdout",
     "output_type": "stream",
     "text": [
      "Enter your list size: 7\n",
      "Enter your list: 1\n",
      "Enter your list: 2\n",
      "Enter your list: 2\n",
      "Enter your list: 3\n",
      "Enter your list: 4\n",
      "Enter your list: 4\n",
      "Enter your list: 5\n",
      "[1, 2, 2, 3, 4, 4, 5]\n"
     ]
    }
   ],
   "source": [
    "input_list = []\n",
    "list_size = int(input(\"Enter your list size: \"))\n",
    "for i in range(list_size):\n",
    "    my_list = int(input(\"Enter your list: \"))\n",
    "    input_list.append(my_list)\n",
    "print(input_list)"
   ]
  },
  {
   "cell_type": "code",
   "execution_count": 23,
   "id": "604eec11",
   "metadata": {},
   "outputs": [
    {
     "data": {
      "text/plain": [
       "[1, 2, 3, 4, 5]"
      ]
     },
     "execution_count": 23,
     "metadata": {},
     "output_type": "execute_result"
    }
   ],
   "source": [
    "remove_duplicates(input_list)"
   ]
  },
  {
   "cell_type": "markdown",
   "id": "1f714de7",
   "metadata": {},
   "source": [
    "# Problem 5: List Concatenation\n",
    "Write a function that takes two lists as input and returns a new list that is the concatenation of the two input lists. <br>\n",
    "list1 = [1, 2, 3] <br>\n",
    "list2 = [4, 5, 6] <br>\n",
    "Concatenated List: [1, 2, 3, 4, 5, 6]\n",
    "\n",
    "\n"
   ]
  },
  {
   "cell_type": "code",
   "execution_count": 50,
   "id": "b270d478",
   "metadata": {},
   "outputs": [
    {
     "name": "stdout",
     "output_type": "stream",
     "text": [
      "Enter your list size: 5\n",
      "Enter your list: 1\n",
      "Enter your list: 2\n",
      "Enter your list: 3\n",
      "Enter your list: 4\n",
      "Enter your list: 5\n",
      "[1, 2, 3, 4, 5]\n"
     ]
    }
   ],
   "source": [
    "input_list1 = []\n",
    "list_size = int(input(\"Enter your list size: \"))\n",
    "for i in range(list_size):\n",
    "    my_list = int(input(\"Enter your list: \"))\n",
    "    input_list1.append(my_list)\n",
    "print(input_list1)"
   ]
  },
  {
   "cell_type": "code",
   "execution_count": 51,
   "id": "6495fbb7",
   "metadata": {},
   "outputs": [
    {
     "name": "stdout",
     "output_type": "stream",
     "text": [
      "Enter your list size: 5\n",
      "Enter your list: 1\n",
      "Enter your list: 8\n",
      "Enter your list: 7\n",
      "Enter your list: 9\n",
      "Enter your list: 5\n",
      "[1, 8, 7, 9, 5]\n"
     ]
    }
   ],
   "source": [
    "input_list2 = []\n",
    "list_size = int(input(\"Enter your list size: \"))\n",
    "for i in range(list_size):\n",
    "    my_list = int(input(\"Enter your list: \"))\n",
    "    input_list2.append(my_list)\n",
    "print(input_list2)"
   ]
  },
  {
   "cell_type": "code",
   "execution_count": 5,
   "id": "99ccb064",
   "metadata": {},
   "outputs": [],
   "source": [
    "def concatenated_list(list3):\n",
    "    \n",
    "    if len(list1)==len(list2):\n",
    "        x = list1.extend(list2)\n",
    "    return x"
   ]
  },
  {
   "cell_type": "code",
   "execution_count": 7,
   "id": "4ba81ea8",
   "metadata": {},
   "outputs": [
    {
     "ename": "NameError",
     "evalue": "name 'list3' is not defined",
     "output_type": "error",
     "traceback": [
      "\u001b[1;31m---------------------------------------------------------------------------\u001b[0m",
      "\u001b[1;31mNameError\u001b[0m                                 Traceback (most recent call last)",
      "Cell \u001b[1;32mIn[7], line 1\u001b[0m\n\u001b[1;32m----> 1\u001b[0m concatenated_list(list3)\n",
      "\u001b[1;31mNameError\u001b[0m: name 'list3' is not defined"
     ]
    }
   ],
   "source": [
    "concatenated_list(list3)"
   ]
  },
  {
   "cell_type": "code",
   "execution_count": 8,
   "id": "81daf795",
   "metadata": {},
   "outputs": [
    {
     "name": "stdout",
     "output_type": "stream",
     "text": [
      "None\n"
     ]
    }
   ],
   "source": [
    "list1 = [1, 2, 3]\n",
    "list2 = [4, 5, 6]\n",
    "list3 = list1.extend(list2)\n",
    "print(list3)"
   ]
  },
  {
   "cell_type": "code",
   "execution_count": null,
   "id": "0104d9e2",
   "metadata": {},
   "outputs": [],
   "source": []
  }
 ],
 "metadata": {
  "kernelspec": {
   "display_name": "Python 3 (ipykernel)",
   "language": "python",
   "name": "python3"
  },
  "language_info": {
   "codemirror_mode": {
    "name": "ipython",
    "version": 3
   },
   "file_extension": ".py",
   "mimetype": "text/x-python",
   "name": "python",
   "nbconvert_exporter": "python",
   "pygments_lexer": "ipython3",
   "version": "3.11.5"
  }
 },
 "nbformat": 4,
 "nbformat_minor": 5
}
