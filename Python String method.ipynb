{
 "cells": [
  {
   "cell_type": "markdown",
   "id": "7fc9eb0b",
   "metadata": {},
   "source": [
    "# string method"
   ]
  },
  {
   "cell_type": "code",
   "execution_count": 1,
   "id": "ed0d5c2d",
   "metadata": {},
   "outputs": [],
   "source": [
    "data = \"Python string method\""
   ]
  },
  {
   "cell_type": "code",
   "execution_count": 2,
   "id": "6e70ff2c",
   "metadata": {},
   "outputs": [
    {
     "data": {
      "text/plain": [
       "9"
      ]
     },
     "execution_count": 2,
     "metadata": {},
     "output_type": "execute_result"
    }
   ],
   "source": [
    "data.find(\"r\",6,10)"
   ]
  },
  {
   "cell_type": "code",
   "execution_count": 3,
   "id": "875974ea",
   "metadata": {},
   "outputs": [
    {
     "data": {
      "text/plain": [
       "-1"
      ]
     },
     "execution_count": 3,
     "metadata": {},
     "output_type": "execute_result"
    }
   ],
   "source": [
    "data.find(\"r\",6,8) #when value is not exist in data range"
   ]
  },
  {
   "cell_type": "code",
   "execution_count": 4,
   "id": "df2a24ed",
   "metadata": {},
   "outputs": [
    {
     "data": {
      "text/plain": [
       "14"
      ]
     },
     "execution_count": 4,
     "metadata": {},
     "output_type": "execute_result"
    }
   ],
   "source": [
    "data.index(\"m\",6,15) #index method is used for finding something in data."
   ]
  },
  {
   "cell_type": "code",
   "execution_count": 5,
   "id": "5d9cdf37",
   "metadata": {},
   "outputs": [
    {
     "ename": "ValueError",
     "evalue": "substring not found",
     "output_type": "error",
     "traceback": [
      "\u001b[1;31m---------------------------------------------------------------------------\u001b[0m",
      "\u001b[1;31mValueError\u001b[0m                                Traceback (most recent call last)",
      "Cell \u001b[1;32mIn[5], line 1\u001b[0m\n\u001b[1;32m----> 1\u001b[0m data\u001b[38;5;241m.\u001b[39mindex(\u001b[38;5;124m\"\u001b[39m\u001b[38;5;124mm\u001b[39m\u001b[38;5;124m\"\u001b[39m,\u001b[38;5;241m6\u001b[39m,\u001b[38;5;241m10\u001b[39m)\n",
      "\u001b[1;31mValueError\u001b[0m: substring not found"
     ]
    }
   ],
   "source": [
    "data.index(\"m\",6,10) #here index method showed value eror. "
   ]
  },
  {
   "cell_type": "code",
   "execution_count": 6,
   "id": "54c6f12c",
   "metadata": {},
   "outputs": [
    {
     "data": {
      "text/plain": [
       "'python string method'"
      ]
     },
     "execution_count": 6,
     "metadata": {},
     "output_type": "execute_result"
    }
   ],
   "source": [
    "data.lower() #convert all char into lower case."
   ]
  },
  {
   "cell_type": "code",
   "execution_count": 7,
   "id": "ef75a9a6",
   "metadata": {},
   "outputs": [
    {
     "data": {
      "text/plain": [
       "'PYTHON STRING METHOD'"
      ]
     },
     "execution_count": 7,
     "metadata": {},
     "output_type": "execute_result"
    }
   ],
   "source": [
    "data.upper() #convert all char into upper case."
   ]
  },
  {
   "cell_type": "code",
   "execution_count": 11,
   "id": "4cd3f3f7",
   "metadata": {},
   "outputs": [],
   "source": [
    "x = \"data science is Fun!\""
   ]
  },
  {
   "cell_type": "code",
   "execution_count": 12,
   "id": "fe3fcdb3",
   "metadata": {},
   "outputs": [
    {
     "data": {
      "text/plain": [
       "'Data science is fun!'"
      ]
     },
     "execution_count": 12,
     "metadata": {},
     "output_type": "execute_result"
    }
   ],
   "source": [
    "x.capitalize() #converts only first character into upper case."
   ]
  },
  {
   "cell_type": "code",
   "execution_count": 13,
   "id": "fbc310d0",
   "metadata": {},
   "outputs": [
    {
     "data": {
      "text/plain": [
       "'DATA SCIENCE IS fUN!'"
      ]
     },
     "execution_count": 13,
     "metadata": {},
     "output_type": "execute_result"
    }
   ],
   "source": [
    "x.swapcase()"
   ]
  },
  {
   "cell_type": "code",
   "execution_count": 14,
   "id": "41fd7106",
   "metadata": {},
   "outputs": [
    {
     "data": {
      "text/plain": [
       "'Data Science Is Fun!'"
      ]
     },
     "execution_count": 14,
     "metadata": {},
     "output_type": "execute_result"
    }
   ],
   "source": [
    "x.title()"
   ]
  },
  {
   "cell_type": "code",
   "execution_count": 15,
   "id": "27abb058",
   "metadata": {},
   "outputs": [
    {
     "data": {
      "text/plain": [
       "False"
      ]
     },
     "execution_count": 15,
     "metadata": {},
     "output_type": "execute_result"
    }
   ],
   "source": [
    "x.islower()"
   ]
  },
  {
   "cell_type": "code",
   "execution_count": 16,
   "id": "1a628e1a",
   "metadata": {},
   "outputs": [
    {
     "data": {
      "text/plain": [
       "False"
      ]
     },
     "execution_count": 16,
     "metadata": {},
     "output_type": "execute_result"
    }
   ],
   "source": [
    "x.isupper()"
   ]
  },
  {
   "cell_type": "code",
   "execution_count": 17,
   "id": "ce98c6b8",
   "metadata": {},
   "outputs": [
    {
     "data": {
      "text/plain": [
       "False"
      ]
     },
     "execution_count": 17,
     "metadata": {},
     "output_type": "execute_result"
    }
   ],
   "source": [
    "x.isdigit()"
   ]
  },
  {
   "cell_type": "code",
   "execution_count": 18,
   "id": "5a694efe",
   "metadata": {},
   "outputs": [
    {
     "data": {
      "text/plain": [
       "b'data science is Fun!'"
      ]
     },
     "execution_count": 18,
     "metadata": {},
     "output_type": "execute_result"
    }
   ],
   "source": [
    "x.encode() #Returns an encoded version of the string"
   ]
  },
  {
   "cell_type": "code",
   "execution_count": 19,
   "id": "7da339ce",
   "metadata": {},
   "outputs": [
    {
     "data": {
      "text/plain": [
       "bytes"
      ]
     },
     "execution_count": 19,
     "metadata": {},
     "output_type": "execute_result"
    }
   ],
   "source": [
    "type(x.encode())"
   ]
  },
  {
   "cell_type": "code",
   "execution_count": 20,
   "id": "a1a9d706",
   "metadata": {},
   "outputs": [
    {
     "data": {
      "text/plain": [
       "['data', 'science', 'is', 'Fun!']"
      ]
     },
     "execution_count": 20,
     "metadata": {},
     "output_type": "execute_result"
    }
   ],
   "source": [
    "x.split() #Splits the string at the specified separator, and returns a list."
   ]
  },
  {
   "cell_type": "code",
   "execution_count": 21,
   "id": "35bfda1a",
   "metadata": {},
   "outputs": [
    {
     "data": {
      "text/plain": [
       "'science'"
      ]
     },
     "execution_count": 21,
     "metadata": {},
     "output_type": "execute_result"
    }
   ],
   "source": [
    "x.split()[1]"
   ]
  },
  {
   "cell_type": "code",
   "execution_count": 22,
   "id": "44225f38",
   "metadata": {},
   "outputs": [
    {
     "data": {
      "text/plain": [
       "'               data science is Fun!               '"
      ]
     },
     "execution_count": 22,
     "metadata": {},
     "output_type": "execute_result"
    }
   ],
   "source": [
    "x.center(50) #Returns a centered string"
   ]
  },
  {
   "cell_type": "code",
   "execution_count": 23,
   "id": "dbb19d31",
   "metadata": {},
   "outputs": [
    {
     "data": {
      "text/plain": [
       "'AI science is Fun!'"
      ]
     },
     "execution_count": 23,
     "metadata": {},
     "output_type": "execute_result"
    }
   ],
   "source": [
    "x.replace(\"data\",\"AI\")"
   ]
  },
  {
   "cell_type": "code",
   "execution_count": 2,
   "id": "c18fa4c0",
   "metadata": {},
   "outputs": [],
   "source": [
    "x =10\n",
    "y =100\n",
    "z = x*y"
   ]
  },
  {
   "cell_type": "code",
   "execution_count": 3,
   "id": "01a8abde",
   "metadata": {},
   "outputs": [
    {
     "name": "stdout",
     "output_type": "stream",
     "text": [
      "I have 1000 taka\n"
     ]
    }
   ],
   "source": [
    "print(\"I have {} taka\".format(z))"
   ]
  },
  {
   "cell_type": "code",
   "execution_count": 4,
   "id": "a0b16cc4",
   "metadata": {},
   "outputs": [
    {
     "name": "stdout",
     "output_type": "stream",
     "text": [
      "I have 1000 taka\n"
     ]
    }
   ],
   "source": [
    "print(f\"I have {z} taka\")"
   ]
  },
  {
   "cell_type": "code",
   "execution_count": null,
   "id": "906882ae",
   "metadata": {},
   "outputs": [],
   "source": []
  }
 ],
 "metadata": {
  "kernelspec": {
   "display_name": "Python 3 (ipykernel)",
   "language": "python",
   "name": "python3"
  },
  "language_info": {
   "codemirror_mode": {
    "name": "ipython",
    "version": 3
   },
   "file_extension": ".py",
   "mimetype": "text/x-python",
   "name": "python",
   "nbconvert_exporter": "python",
   "pygments_lexer": "ipython3",
   "version": "3.11.5"
  }
 },
 "nbformat": 4,
 "nbformat_minor": 5
}
