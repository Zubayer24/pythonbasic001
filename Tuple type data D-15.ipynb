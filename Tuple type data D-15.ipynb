{
 "cells": [
  {
   "cell_type": "markdown",
   "id": "246cf03b",
   "metadata": {},
   "source": [
    "# Tuple Data"
   ]
  },
  {
   "cell_type": "code",
   "execution_count": 1,
   "id": "7fd4ea3b",
   "metadata": {},
   "outputs": [],
   "source": [
    "tup1 = (\"data science\",\"roni mia\",1,[2,3],True)"
   ]
  },
  {
   "cell_type": "code",
   "execution_count": 2,
   "id": "5e98f6ac",
   "metadata": {},
   "outputs": [
    {
     "data": {
      "text/plain": [
       "('data science', 'roni mia', 1, [2, 3], True)"
      ]
     },
     "execution_count": 2,
     "metadata": {},
     "output_type": "execute_result"
    }
   ],
   "source": [
    "tup1"
   ]
  },
  {
   "cell_type": "code",
   "execution_count": 3,
   "id": "76e89c5f",
   "metadata": {},
   "outputs": [
    {
     "data": {
      "text/plain": [
       "'roni mia'"
      ]
     },
     "execution_count": 3,
     "metadata": {},
     "output_type": "execute_result"
    }
   ],
   "source": [
    "tup1[1]"
   ]
  },
  {
   "cell_type": "code",
   "execution_count": 4,
   "id": "209d59e6",
   "metadata": {},
   "outputs": [
    {
     "data": {
      "text/plain": [
       "True"
      ]
     },
     "execution_count": 4,
     "metadata": {},
     "output_type": "execute_result"
    }
   ],
   "source": [
    "tup1[-1]"
   ]
  },
  {
   "cell_type": "code",
   "execution_count": 5,
   "id": "6f7383b4",
   "metadata": {},
   "outputs": [
    {
     "data": {
      "text/plain": [
       "tuple"
      ]
     },
     "execution_count": 5,
     "metadata": {},
     "output_type": "execute_result"
    }
   ],
   "source": [
    "type(tup1)"
   ]
  },
  {
   "cell_type": "code",
   "execution_count": 6,
   "id": "544312a1",
   "metadata": {},
   "outputs": [],
   "source": [
    "tup2 = (\"Md. Zubayer Hasan\")"
   ]
  },
  {
   "cell_type": "code",
   "execution_count": 7,
   "id": "a37b2b6b",
   "metadata": {},
   "outputs": [
    {
     "data": {
      "text/plain": [
       "str"
      ]
     },
     "execution_count": 7,
     "metadata": {},
     "output_type": "execute_result"
    }
   ],
   "source": [
    "type(tup2)"
   ]
  },
  {
   "cell_type": "code",
   "execution_count": 11,
   "id": "44d47080",
   "metadata": {},
   "outputs": [],
   "source": [
    "tup3 = ('Md. Zubayer Hasan',)"
   ]
  },
  {
   "cell_type": "code",
   "execution_count": 12,
   "id": "c8f52d18",
   "metadata": {},
   "outputs": [
    {
     "data": {
      "text/plain": [
       "('Md. Zubayer Hasan',)"
      ]
     },
     "execution_count": 12,
     "metadata": {},
     "output_type": "execute_result"
    }
   ],
   "source": [
    "tup3"
   ]
  },
  {
   "cell_type": "code",
   "execution_count": 13,
   "id": "5e199ada",
   "metadata": {},
   "outputs": [
    {
     "data": {
      "text/plain": [
       "tuple"
      ]
     },
     "execution_count": 13,
     "metadata": {},
     "output_type": "execute_result"
    }
   ],
   "source": [
    "type(tup3)"
   ]
  },
  {
   "cell_type": "code",
   "execution_count": 14,
   "id": "24f1eb60",
   "metadata": {},
   "outputs": [
    {
     "data": {
      "text/plain": [
       "'Md. Zubayer Hasan'"
      ]
     },
     "execution_count": 14,
     "metadata": {},
     "output_type": "execute_result"
    }
   ],
   "source": [
    "tup3[0]"
   ]
  },
  {
   "cell_type": "code",
   "execution_count": 15,
   "id": "dc590ceb",
   "metadata": {},
   "outputs": [],
   "source": [
    "#tuple to list\n",
    "tup =list(tup3) "
   ]
  },
  {
   "cell_type": "code",
   "execution_count": 16,
   "id": "d6f46dcb",
   "metadata": {},
   "outputs": [
    {
     "data": {
      "text/plain": [
       "list"
      ]
     },
     "execution_count": 16,
     "metadata": {},
     "output_type": "execute_result"
    }
   ],
   "source": [
    "type(tup)"
   ]
  },
  {
   "cell_type": "code",
   "execution_count": 17,
   "id": "967a0cc6",
   "metadata": {},
   "outputs": [
    {
     "data": {
      "text/plain": [
       "['Md. Zubayer Hasan', 'Golam Rizvi']"
      ]
     },
     "execution_count": 17,
     "metadata": {},
     "output_type": "execute_result"
    }
   ],
   "source": [
    "tup.append(\"Golam Rizvi\")\n",
    "tup"
   ]
  },
  {
   "cell_type": "code",
   "execution_count": 18,
   "id": "173e0540",
   "metadata": {},
   "outputs": [],
   "source": [
    "tup4 = tuple(tup)"
   ]
  },
  {
   "cell_type": "code",
   "execution_count": 19,
   "id": "51eb32c1",
   "metadata": {},
   "outputs": [
    {
     "data": {
      "text/plain": [
       "('Md. Zubayer Hasan', 'Golam Rizvi')"
      ]
     },
     "execution_count": 19,
     "metadata": {},
     "output_type": "execute_result"
    }
   ],
   "source": [
    "tup4"
   ]
  },
  {
   "cell_type": "code",
   "execution_count": 20,
   "id": "e70ee9cf",
   "metadata": {},
   "outputs": [],
   "source": [
    "tup5 = tup4+tup1"
   ]
  },
  {
   "cell_type": "code",
   "execution_count": 21,
   "id": "05dae50f",
   "metadata": {},
   "outputs": [
    {
     "data": {
      "text/plain": [
       "('Md. Zubayer Hasan',\n",
       " 'Golam Rizvi',\n",
       " 'data science',\n",
       " 'roni mia',\n",
       " 1,\n",
       " [2, 3],\n",
       " True)"
      ]
     },
     "execution_count": 21,
     "metadata": {},
     "output_type": "execute_result"
    }
   ],
   "source": [
    "tup5"
   ]
  },
  {
   "cell_type": "code",
   "execution_count": 22,
   "id": "22b81373",
   "metadata": {},
   "outputs": [],
   "source": [
    "tup6 = tup4*2"
   ]
  },
  {
   "cell_type": "code",
   "execution_count": 23,
   "id": "f7009d8c",
   "metadata": {},
   "outputs": [
    {
     "data": {
      "text/plain": [
       "('Md. Zubayer Hasan', 'Golam Rizvi', 'Md. Zubayer Hasan', 'Golam Rizvi')"
      ]
     },
     "execution_count": 23,
     "metadata": {},
     "output_type": "execute_result"
    }
   ],
   "source": [
    "tup6"
   ]
  },
  {
   "cell_type": "markdown",
   "id": "fb132412",
   "metadata": {},
   "source": [
    "# Tuple data methods"
   ]
  },
  {
   "cell_type": "code",
   "execution_count": 24,
   "id": "5f5ca45a",
   "metadata": {},
   "outputs": [
    {
     "data": {
      "text/plain": [
       "1"
      ]
     },
     "execution_count": 24,
     "metadata": {},
     "output_type": "execute_result"
    }
   ],
   "source": [
    "tup5.count(\"data science\")"
   ]
  },
  {
   "cell_type": "code",
   "execution_count": 25,
   "id": "a08454d3",
   "metadata": {},
   "outputs": [
    {
     "data": {
      "text/plain": [
       "0"
      ]
     },
     "execution_count": 25,
     "metadata": {},
     "output_type": "execute_result"
    }
   ],
   "source": [
    "tup5.count(2)"
   ]
  },
  {
   "cell_type": "code",
   "execution_count": 31,
   "id": "a3dfab5b",
   "metadata": {},
   "outputs": [],
   "source": [
    "tup8 = (\"data science\",\"roni mia\",1,1,[2,3],3,1,3,True)"
   ]
  },
  {
   "cell_type": "code",
   "execution_count": 34,
   "id": "1d96a64e",
   "metadata": {},
   "outputs": [
    {
     "data": {
      "text/plain": [
       "2"
      ]
     },
     "execution_count": 34,
     "metadata": {},
     "output_type": "execute_result"
    }
   ],
   "source": [
    "tup8.count(3)"
   ]
  },
  {
   "cell_type": "code",
   "execution_count": 35,
   "id": "e3d6da6c",
   "metadata": {},
   "outputs": [
    {
     "data": {
      "text/plain": [
       "4"
      ]
     },
     "execution_count": 35,
     "metadata": {},
     "output_type": "execute_result"
    }
   ],
   "source": [
    "tup8.count(1)"
   ]
  },
  {
   "cell_type": "code",
   "execution_count": 36,
   "id": "87f6f715",
   "metadata": {},
   "outputs": [
    {
     "data": {
      "text/plain": [
       "2"
      ]
     },
     "execution_count": 36,
     "metadata": {},
     "output_type": "execute_result"
    }
   ],
   "source": [
    "tup8.index(1)"
   ]
  },
  {
   "cell_type": "code",
   "execution_count": 37,
   "id": "40191e6b",
   "metadata": {},
   "outputs": [
    {
     "data": {
      "text/plain": [
       "5"
      ]
     },
     "execution_count": 37,
     "metadata": {},
     "output_type": "execute_result"
    }
   ],
   "source": [
    "tup8.index(3)"
   ]
  },
  {
   "cell_type": "code",
   "execution_count": 4,
   "id": "aa10e92e",
   "metadata": {},
   "outputs": [],
   "source": [
    " tup18 = (\"data science\",\"roni mia\",1,1,[2,3],3,1,3,True)"
   ]
  },
  {
   "cell_type": "code",
   "execution_count": 5,
   "id": "65f37cfb",
   "metadata": {},
   "outputs": [
    {
     "data": {
      "text/plain": [
       "True"
      ]
     },
     "execution_count": 5,
     "metadata": {},
     "output_type": "execute_result"
    }
   ],
   "source": [
    "#membership\n",
    "\"data science\" in tup18"
   ]
  },
  {
   "cell_type": "code",
   "execution_count": 2,
   "id": "e0cbdcd8",
   "metadata": {},
   "outputs": [],
   "source": [
    " tup18 = (\"data science\",\"roni mia\",1,1,[2,3],3,1,3,True)"
   ]
  },
  {
   "cell_type": "code",
   "execution_count": 3,
   "id": "7bd06d3b",
   "metadata": {},
   "outputs": [
    {
     "name": "stdout",
     "output_type": "stream",
     "text": [
      "data science\n",
      "roni mia\n",
      "1\n",
      "1\n",
      "[2, 3]\n",
      "3\n",
      "1\n",
      "3\n",
      "True\n"
     ]
    }
   ],
   "source": [
    "for i in tup18:\n",
    "    print(i)"
   ]
  },
  {
   "cell_type": "code",
   "execution_count": null,
   "id": "67aba78b",
   "metadata": {},
   "outputs": [],
   "source": []
  }
 ],
 "metadata": {
  "kernelspec": {
   "display_name": "Python 3 (ipykernel)",
   "language": "python",
   "name": "python3"
  },
  "language_info": {
   "codemirror_mode": {
    "name": "ipython",
    "version": 3
   },
   "file_extension": ".py",
   "mimetype": "text/x-python",
   "name": "python",
   "nbconvert_exporter": "python",
   "pygments_lexer": "ipython3",
   "version": "3.11.5"
  }
 },
 "nbformat": 4,
 "nbformat_minor": 5
}
