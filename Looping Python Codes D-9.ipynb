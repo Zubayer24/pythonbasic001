{
 "cells": [
  {
   "cell_type": "code",
   "execution_count": 4,
   "id": "1c15b6ff",
   "metadata": {},
   "outputs": [
    {
     "name": "stdout",
     "output_type": "stream",
     "text": [
      "2 0\n",
      "3 1\n",
      "4 2\n",
      "50 3\n",
      "60 4\n",
      "45 5\n",
      "100 6\n"
     ]
    }
   ],
   "source": [
    "n = [2,3,4,50,60,45,100]\n",
    "for x in range(len(n)):\n",
    "    print(n[x],x)"
   ]
  },
  {
   "cell_type": "code",
   "execution_count": 9,
   "id": "2e40a6e3",
   "metadata": {},
   "outputs": [
    {
     "name": "stdout",
     "output_type": "stream",
     "text": [
      "2 2\n",
      "5 3\n",
      "9 4\n",
      "59 50\n",
      "119 60\n",
      "164 45\n",
      "264 100\n",
      "total 264\n"
     ]
    }
   ],
   "source": [
    "n = [2,3,4,50,60,45,100]\n",
    "total = 0\n",
    "for x in n:\n",
    "    total = total + x\n",
    "    print(total,x)\n",
    "print(\"total\",total)"
   ]
  },
  {
   "cell_type": "code",
   "execution_count": 2,
   "id": "e7135412",
   "metadata": {},
   "outputs": [
    {
     "name": "stdout",
     "output_type": "stream",
     "text": [
      "data science 0\n",
      "data science 1\n",
      "data science 2\n",
      "data science 3\n",
      "data science 4\n",
      "data science 5\n",
      "data science 6\n",
      "data science 7\n",
      "data science 8\n",
      "data science 9\n"
     ]
    }
   ],
   "source": [
    "for i in  range(10):\n",
    "    print(\"data science\",i)"
   ]
  },
  {
   "cell_type": "code",
   "execution_count": 11,
   "id": "0d783653",
   "metadata": {},
   "outputs": [
    {
     "name": "stdout",
     "output_type": "stream",
     "text": [
      "data science 5\n",
      "data science 8\n",
      "data science 11\n",
      "data science 14\n"
     ]
    }
   ],
   "source": [
    "for i in range(5,15,3):\n",
    "    print(\"data science\",i)"
   ]
  },
  {
   "cell_type": "code",
   "execution_count": 17,
   "id": "0d9cf0e7",
   "metadata": {},
   "outputs": [
    {
     "name": "stdout",
     "output_type": "stream",
     "text": [
      "  4\n",
      "s 5\n",
      "c 6\n",
      "i 7\n",
      "e 8\n",
      "n 9\n"
     ]
    }
   ],
   "source": [
    "Data = \"data science\"\n",
    "for i in range(4,10):\n",
    "    print(Data[i],i)"
   ]
  },
  {
   "cell_type": "code",
   "execution_count": 7,
   "id": "cf4d71db",
   "metadata": {},
   "outputs": [
    {
     "name": "stdout",
     "output_type": "stream",
     "text": [
      "20\n",
      "18\n",
      "16\n",
      "14\n",
      "12\n",
      "10\n",
      "8\n",
      "6\n",
      "4\n",
      "2\n"
     ]
    }
   ],
   "source": [
    "for i in range(20,0,-2):\n",
    "    print(i)"
   ]
  },
  {
   "cell_type": "code",
   "execution_count": 8,
   "id": "7a6fcdf0",
   "metadata": {},
   "outputs": [
    {
     "name": "stdout",
     "output_type": "stream",
     "text": [
      "-15\n",
      "-14\n",
      "-13\n",
      "-12\n",
      "-11\n",
      "-10\n"
     ]
    }
   ],
   "source": [
    "for i in range(-15,-9):\n",
    "    print(i)"
   ]
  },
  {
   "cell_type": "markdown",
   "id": "ca47003e",
   "metadata": {},
   "source": [
    "# While loop"
   ]
  },
  {
   "cell_type": "code",
   "execution_count": 11,
   "id": "23a3f97e",
   "metadata": {},
   "outputs": [
    {
     "name": "stdout",
     "output_type": "stream",
     "text": [
      "0 2\n",
      "1 5\n",
      "2 9\n",
      "3 64\n",
      "4 124\n",
      "5 201\n",
      "6 301\n"
     ]
    }
   ],
   "source": [
    "n = [2,3,4,55,60,77,100]\n",
    "total = 0\n",
    "index = 0\n",
    "while index < len(n):\n",
    "    total +=n[index]\n",
    "    print(index,total)\n",
    "    index +=1\n",
    "    "
   ]
  },
  {
   "cell_type": "code",
   "execution_count": 6,
   "id": "dcaada6c",
   "metadata": {},
   "outputs": [
    {
     "name": "stdout",
     "output_type": "stream",
     "text": [
      "2 1\n",
      "5 2\n",
      "9 3\n",
      "64 4\n",
      "124 5\n",
      "201 6\n",
      "301 7\n",
      "total 301\n"
     ]
    }
   ],
   "source": [
    "n = [2,3,4,55,60,77,100]\n",
    "total = 0\n",
    "index = 0\n",
    "while index <len(n):\n",
    "    total +=n[index]\n",
    "    index +=1\n",
    "    print(total,index)\n",
    "print(\"total\",total)"
   ]
  },
  {
   "cell_type": "code",
   "execution_count": 13,
   "id": "40bd184d",
   "metadata": {},
   "outputs": [
    {
     "name": "stdout",
     "output_type": "stream",
     "text": [
      "0 study mart\n",
      "2 study mart\n",
      "4 study mart\n",
      "6 study mart\n",
      "8 study mart\n",
      "10 study mart\n"
     ]
    }
   ],
   "source": [
    "i = 0\n",
    "while i <=10:\n",
    "    print(i,\"study mart\")\n",
    "    i += 2"
   ]
  },
  {
   "cell_type": "code",
   "execution_count": 16,
   "id": "6d5c8d05",
   "metadata": {},
   "outputs": [
    {
     "name": "stdout",
     "output_type": "stream",
     "text": [
      "P\n",
      "y\n",
      "t\n",
      "h\n",
      "o\n",
      "n\n"
     ]
    }
   ],
   "source": [
    "data = \"Python\"\n",
    "index = 0\n",
    "while index <len(data):\n",
    "    print(data[index])\n",
    "    index +=1"
   ]
  },
  {
   "cell_type": "code",
   "execution_count": 9,
   "id": "e85bf004",
   "metadata": {},
   "outputs": [
    {
     "name": "stdout",
     "output_type": "stream",
     "text": [
      "P\n",
      "y\n",
      "t\n",
      "h\n",
      "o\n",
      "n\n"
     ]
    }
   ],
   "source": [
    "data = \"Python\"\n",
    "index = 0\n",
    "while index <len(data):\n",
    "    print(data[index])\n",
    "    index +=1"
   ]
  },
  {
   "cell_type": "code",
   "execution_count": 17,
   "id": "0fd7ebde",
   "metadata": {},
   "outputs": [
    {
     "name": "stdout",
     "output_type": "stream",
     "text": [
      "i\n",
      " \n",
      "l\n",
      "o\n",
      "v\n",
      "e\n",
      " \n",
      "d\n",
      "a\n",
      "t\n",
      "a\n",
      " \n",
      "s\n",
      "c\n",
      "i\n",
      "e\n",
      "n\n",
      "c\n",
      "e\n",
      " \n",
      "s\n",
      "o\n",
      " \n",
      "m\n",
      "u\n",
      "c\n",
      "h\n"
     ]
    }
   ],
   "source": [
    "data = \"i love data science so much\"\n",
    "index = 0\n",
    "while index<len(data):\n",
    "    print(data[index])\n",
    "    index +=1"
   ]
  },
  {
   "cell_type": "code",
   "execution_count": 18,
   "id": "e29e5775",
   "metadata": {},
   "outputs": [
    {
     "name": "stdout",
     "output_type": "stream",
     "text": [
      "i\n",
      "love\n",
      "data\n",
      "science\n",
      "so\n",
      "much\n"
     ]
    }
   ],
   "source": [
    "data = \"i love data science so much\"\n",
    "data = data.split()\n",
    "index = 0\n",
    "while index<len(data):\n",
    "    print(data[index])\n",
    "    index +=1"
   ]
  },
  {
   "cell_type": "code",
   "execution_count": 23,
   "id": "8ceb49cd",
   "metadata": {},
   "outputs": [
    {
     "name": "stdout",
     "output_type": "stream",
     "text": [
      "2 0\n",
      "5 1\n",
      "9 2\n",
      "14 3\n",
      "20 4\n",
      "27 5\n",
      "35 6\n",
      "total 35\n"
     ]
    }
   ],
   "source": [
    "x = [2,3,4,5,6,7,8]\n",
    "index = 0\n",
    "total = 0\n",
    "while index<len(x):\n",
    "    total += x[index]\n",
    "    print(total,index)\n",
    "    index += 1\n",
    "print(\"total\",-total)"
   ]
  },
  {
   "cell_type": "code",
   "execution_count": 18,
   "id": "ea487ea2",
   "metadata": {},
   "outputs": [
    {
     "name": "stdout",
     "output_type": "stream",
     "text": [
      "5 0\n",
      "11 1\n",
      "18 2\n",
      "26 3\n",
      "36 4\n",
      "51 5\n",
      "71 6\n",
      "total 71\n"
     ]
    }
   ],
   "source": [
    "x = [5,6,7,8,10,15,20]\n",
    "total = 0\n",
    "index = 0\n",
    "while index <len(x):\n",
    "    total += x[index]\n",
    "    print(total,index)\n",
    "    index +=1\n",
    "print(\"total\",total)  "
   ]
  },
  {
   "cell_type": "code",
   "execution_count": 19,
   "id": "2d07a96d",
   "metadata": {},
   "outputs": [
    {
     "name": "stdout",
     "output_type": "stream",
     "text": [
      "-30\n",
      "-29\n",
      "-28\n",
      "-27\n",
      "-26\n",
      "-25\n",
      "-24\n",
      "-23\n",
      "-22\n",
      "-21\n",
      "-20\n",
      "-19\n",
      "-18\n",
      "-17\n",
      "-16\n",
      "-15\n",
      "-14\n",
      "-13\n",
      "-12\n",
      "-11\n",
      "-10\n"
     ]
    }
   ],
   "source": [
    "i = -30\n",
    "while i<-9:\n",
    "    print(i)\n",
    "    i +=1"
   ]
  },
  {
   "cell_type": "markdown",
   "id": "9c8f1850",
   "metadata": {},
   "source": [
    "# Nested loop"
   ]
  },
  {
   "cell_type": "code",
   "execution_count": 42,
   "id": "3e1c751a",
   "metadata": {},
   "outputs": [
    {
     "name": "stdout",
     "output_type": "stream",
     "text": [
      " \n",
      "#  \n",
      "# #  \n",
      "# # #  \n"
     ]
    }
   ],
   "source": [
    "rows = 4\n",
    "#outer loop\n",
    "for x in range(rows):\n",
    "    for y in range(x):\n",
    "        print(\"#\", end=\" \")\n",
    "    print(\" \")\n",
    "  "
   ]
  },
  {
   "cell_type": "code",
   "execution_count": 34,
   "id": "87a0127e",
   "metadata": {},
   "outputs": [
    {
     "name": "stdout",
     "output_type": "stream",
     "text": [
      "#  \n",
      "# #  \n",
      "# # #  \n",
      "# # # #  \n"
     ]
    }
   ],
   "source": [
    "rows = 4\n",
    "#outer loop\n",
    "for x in range(1,rows+1):\n",
    "    for y in range(1,x+1):\n",
    "        print(\"#\", end=\" \")\n",
    "    print(\" \")\n",
    "  "
   ]
  },
  {
   "cell_type": "code",
   "execution_count": 48,
   "id": "a1f04677",
   "metadata": {},
   "outputs": [
    {
     "name": "stdout",
     "output_type": "stream",
     "text": [
      "\n",
      "\n",
      "hasan \n",
      "\n",
      "hasan hasan \n",
      "\n",
      "hasan hasan hasan \n",
      "\n",
      "hasan hasan hasan hasan \n",
      "\n"
     ]
    }
   ],
   "source": [
    "name = \"hasan\"\n",
    "for x in range(5):\n",
    "    for y in range(x):\n",
    "        print(name,end=\" \")\n",
    "    print(\"\\n\")\n"
   ]
  },
  {
   "cell_type": "code",
   "execution_count": 31,
   "id": "f966849a",
   "metadata": {},
   "outputs": [
    {
     "name": "stdout",
     "output_type": "stream",
     "text": [
      "1 2 3 4 5 \n",
      "\n",
      "1 2 3 4 5 \n",
      "\n",
      "1 2 3 4 5 \n",
      "\n",
      "1 2 3 4 5 \n",
      "\n",
      "1 2 3 4 5 \n",
      "\n"
     ]
    }
   ],
   "source": [
    "num = [1,2,3,4,5]\n",
    "for element in num:\n",
    "    index = 0\n",
    "    while index<len(num):\n",
    "        print(num[index],end=\" \")\n",
    "        index +=1\n",
    "    print(\"\\n\")"
   ]
  },
  {
   "cell_type": "code",
   "execution_count": 32,
   "id": "91d235b6",
   "metadata": {},
   "outputs": [
    {
     "name": "stdout",
     "output_type": "stream",
     "text": [
      "[1, 2, 3, 4, 5] [1, 2, 3, 4, 5] [1, 2, 3, 4, 5] [1, 2, 3, 4, 5] [1, 2, 3, 4, 5] \n",
      "\n",
      "[1, 2, 3, 4, 5] [1, 2, 3, 4, 5] [1, 2, 3, 4, 5] [1, 2, 3, 4, 5] [1, 2, 3, 4, 5] \n",
      "\n",
      "[1, 2, 3, 4, 5] [1, 2, 3, 4, 5] [1, 2, 3, 4, 5] [1, 2, 3, 4, 5] [1, 2, 3, 4, 5] \n",
      "\n",
      "[1, 2, 3, 4, 5] [1, 2, 3, 4, 5] [1, 2, 3, 4, 5] [1, 2, 3, 4, 5] [1, 2, 3, 4, 5] \n",
      "\n",
      "[1, 2, 3, 4, 5] [1, 2, 3, 4, 5] [1, 2, 3, 4, 5] [1, 2, 3, 4, 5] [1, 2, 3, 4, 5] \n",
      "\n"
     ]
    }
   ],
   "source": [
    "num = [1,2,3,4,5]\n",
    "for element in num:\n",
    "    index = 0\n",
    "    while index<len(num):\n",
    "        print(num,end=\" \")\n",
    "        index +=1\n",
    "    print(\"\\n\")"
   ]
  },
  {
   "cell_type": "code",
   "execution_count": null,
   "id": "1b849630",
   "metadata": {},
   "outputs": [],
   "source": []
  }
 ],
 "metadata": {
  "kernelspec": {
   "display_name": "Python 3 (ipykernel)",
   "language": "python",
   "name": "python3"
  },
  "language_info": {
   "codemirror_mode": {
    "name": "ipython",
    "version": 3
   },
   "file_extension": ".py",
   "mimetype": "text/x-python",
   "name": "python",
   "nbconvert_exporter": "python",
   "pygments_lexer": "ipython3",
   "version": "3.11.5"
  }
 },
 "nbformat": 4,
 "nbformat_minor": 5
}
