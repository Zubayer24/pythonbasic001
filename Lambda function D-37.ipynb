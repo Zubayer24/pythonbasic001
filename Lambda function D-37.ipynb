{
 "cells": [
  {
   "cell_type": "markdown",
   "id": "83526a92",
   "metadata": {},
   "source": [
    "# Lambda Anonymous function"
   ]
  },
  {
   "cell_type": "code",
   "execution_count": 1,
   "id": "1acf6a5b",
   "metadata": {},
   "outputs": [],
   "source": [
    "def sums(x,y):\n",
    "    return x+y"
   ]
  },
  {
   "cell_type": "code",
   "execution_count": 2,
   "id": "0554ea95",
   "metadata": {},
   "outputs": [
    {
     "data": {
      "text/plain": [
       "9"
      ]
     },
     "execution_count": 2,
     "metadata": {},
     "output_type": "execute_result"
    }
   ],
   "source": [
    "sums(5,4)"
   ]
  },
  {
   "cell_type": "code",
   "execution_count": 3,
   "id": "0222c5f2",
   "metadata": {},
   "outputs": [
    {
     "data": {
      "text/plain": [
       "15"
      ]
     },
     "execution_count": 3,
     "metadata": {},
     "output_type": "execute_result"
    }
   ],
   "source": [
    "f = lambda x,y: x+y\n",
    "f(7,8)"
   ]
  },
  {
   "cell_type": "code",
   "execution_count": 4,
   "id": "940df413",
   "metadata": {},
   "outputs": [
    {
     "data": {
      "text/plain": [
       "56"
      ]
     },
     "execution_count": 4,
     "metadata": {},
     "output_type": "execute_result"
    }
   ],
   "source": [
    "f = lambda x,y: x*y\n",
    "f(7,8)"
   ]
  },
  {
   "cell_type": "code",
   "execution_count": 5,
   "id": "0dd8f816",
   "metadata": {},
   "outputs": [
    {
     "data": {
      "text/plain": [
       "64"
      ]
     },
     "execution_count": 5,
     "metadata": {},
     "output_type": "execute_result"
    }
   ],
   "source": [
    "f = lambda x: x*x\n",
    "f(8)"
   ]
  },
  {
   "cell_type": "markdown",
   "id": "1d8a3e2c",
   "metadata": {},
   "source": [
    "# Lambda in higher order"
   ]
  },
  {
   "cell_type": "code",
   "execution_count": 6,
   "id": "185709c2",
   "metadata": {},
   "outputs": [],
   "source": [
    "def operation_higher(x,y,operation):\n",
    "    return operation(x,y)"
   ]
  },
  {
   "cell_type": "code",
   "execution_count": 7,
   "id": "dff3f32e",
   "metadata": {},
   "outputs": [
    {
     "data": {
      "text/plain": [
       "9"
      ]
     },
     "execution_count": 7,
     "metadata": {},
     "output_type": "execute_result"
    }
   ],
   "source": [
    "operation_higher(5,4,lambda x,y: x+y)"
   ]
  },
  {
   "cell_type": "code",
   "execution_count": 14,
   "id": "bfad4a48",
   "metadata": {},
   "outputs": [],
   "source": [
    "def higher_operation(x,y,operation):\n",
    "    return operation(x,y)\n"
   ]
  },
  {
   "cell_type": "code",
   "execution_count": 15,
   "id": "b18c7246",
   "metadata": {},
   "outputs": [
    {
     "data": {
      "text/plain": [
       "42"
      ]
     },
     "execution_count": 15,
     "metadata": {},
     "output_type": "execute_result"
    }
   ],
   "source": [
    "higher_operation(6,7, lambda x,y: x*y)"
   ]
  },
  {
   "cell_type": "code",
   "execution_count": 17,
   "id": "be411139",
   "metadata": {},
   "outputs": [
    {
     "data": {
      "text/plain": [
       "30"
      ]
     },
     "execution_count": 17,
     "metadata": {},
     "output_type": "execute_result"
    }
   ],
   "source": [
    "higher_operation(5,6, lambda p,q: p*q)"
   ]
  },
  {
   "cell_type": "code",
   "execution_count": null,
   "id": "34ab8ee3",
   "metadata": {},
   "outputs": [],
   "source": []
  }
 ],
 "metadata": {
  "kernelspec": {
   "display_name": "Python 3 (ipykernel)",
   "language": "python",
   "name": "python3"
  },
  "language_info": {
   "codemirror_mode": {
    "name": "ipython",
    "version": 3
   },
   "file_extension": ".py",
   "mimetype": "text/x-python",
   "name": "python",
   "nbconvert_exporter": "python",
   "pygments_lexer": "ipython3",
   "version": "3.11.5"
  }
 },
 "nbformat": 4,
 "nbformat_minor": 5
}
