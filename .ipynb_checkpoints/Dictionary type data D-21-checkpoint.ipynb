{
 "cells": [
  {
   "cell_type": "code",
   "execution_count": 6,
   "id": "52720cd6",
   "metadata": {},
   "outputs": [],
   "source": [
    "dic = {\n",
    "    \"Name\" :\"Md. Zubayer hasan\",\n",
    "    \"varsity\" : \"Govt. titumir College\",\n",
    "    \"Study\" :\"Honours 2nd year\"\n",
    "}"
   ]
  },
  {
   "cell_type": "code",
   "execution_count": 7,
   "id": "5d5ce346",
   "metadata": {},
   "outputs": [
    {
     "data": {
      "text/plain": [
       "{'Name': 'Md. Zubayer hasan',\n",
       " 'varsity': 'Govt. titumir College',\n",
       " 'Study': 'Honours 2nd year'}"
      ]
     },
     "execution_count": 7,
     "metadata": {},
     "output_type": "execute_result"
    }
   ],
   "source": [
    "dic"
   ]
  },
  {
   "cell_type": "code",
   "execution_count": 11,
   "id": "bbbdaf0c",
   "metadata": {},
   "outputs": [
    {
     "data": {
      "text/plain": [
       "dict"
      ]
     },
     "execution_count": 11,
     "metadata": {},
     "output_type": "execute_result"
    }
   ],
   "source": [
    "type(dic)"
   ]
  },
  {
   "cell_type": "code",
   "execution_count": 9,
   "id": "ad0fe013",
   "metadata": {},
   "outputs": [
    {
     "data": {
      "text/plain": [
       "dict_keys(['Name', 'varsity', 'Study'])"
      ]
     },
     "execution_count": 9,
     "metadata": {},
     "output_type": "execute_result"
    }
   ],
   "source": [
    "dic.keys()"
   ]
  },
  {
   "cell_type": "code",
   "execution_count": 10,
   "id": "ed727bfb",
   "metadata": {},
   "outputs": [
    {
     "data": {
      "text/plain": [
       "dict_values(['Md. Zubayer hasan', 'Govt. titumir College', 'Honours 2nd year'])"
      ]
     },
     "execution_count": 10,
     "metadata": {},
     "output_type": "execute_result"
    }
   ],
   "source": [
    "dic.values()"
   ]
  },
  {
   "cell_type": "code",
   "execution_count": 12,
   "id": "0b6f62a4",
   "metadata": {},
   "outputs": [],
   "source": [
    "dic2 = dic.copy()"
   ]
  },
  {
   "cell_type": "code",
   "execution_count": 13,
   "id": "d6fbaae8",
   "metadata": {},
   "outputs": [
    {
     "data": {
      "text/plain": [
       "{'Name': 'Md. Zubayer hasan',\n",
       " 'varsity': 'Govt. titumir College',\n",
       " 'Study': 'Honours 2nd year'}"
      ]
     },
     "execution_count": 13,
     "metadata": {},
     "output_type": "execute_result"
    }
   ],
   "source": [
    "dic2"
   ]
  },
  {
   "cell_type": "code",
   "execution_count": 23,
   "id": "566b34be",
   "metadata": {},
   "outputs": [
    {
     "data": {
      "text/plain": [
       "{'Name': 'Md. Zubayer hasan',\n",
       " 'varsity': 'Govt. titumir College',\n",
       " 'Study': 'Honours 2nd year'}"
      ]
     },
     "execution_count": 23,
     "metadata": {},
     "output_type": "execute_result"
    }
   ],
   "source": [
    "dic"
   ]
  },
  {
   "cell_type": "code",
   "execution_count": 24,
   "id": "79498a12",
   "metadata": {},
   "outputs": [],
   "source": [
    "dic[\"Study\"] = \"Honours 3rd year\""
   ]
  },
  {
   "cell_type": "code",
   "execution_count": 25,
   "id": "f5bea5f1",
   "metadata": {},
   "outputs": [
    {
     "data": {
      "text/plain": [
       "{'Name': 'Md. Zubayer hasan',\n",
       " 'varsity': 'Govt. titumir College',\n",
       " 'Study': 'Honours 3rd year'}"
      ]
     },
     "execution_count": 25,
     "metadata": {},
     "output_type": "execute_result"
    }
   ],
   "source": [
    "dic"
   ]
  },
  {
   "cell_type": "code",
   "execution_count": 27,
   "id": "aeb844fc",
   "metadata": {},
   "outputs": [],
   "source": [
    "dic[\"dept.\"] = \"Mathematics\""
   ]
  },
  {
   "cell_type": "code",
   "execution_count": 28,
   "id": "84deae61",
   "metadata": {},
   "outputs": [
    {
     "data": {
      "text/plain": [
       "{'Name': 'Md. Zubayer hasan',\n",
       " 'varsity': 'Govt. titumir College',\n",
       " 'Study': 'Honours 3rd year',\n",
       " 'dept.': 'Mathematics'}"
      ]
     },
     "execution_count": 28,
     "metadata": {},
     "output_type": "execute_result"
    }
   ],
   "source": [
    "dic"
   ]
  },
  {
   "cell_type": "code",
   "execution_count": 29,
   "id": "96acdb62",
   "metadata": {},
   "outputs": [],
   "source": [
    "dic.update({\"dept.\" : \"Data Science\"})"
   ]
  },
  {
   "cell_type": "code",
   "execution_count": 30,
   "id": "77a5f8f2",
   "metadata": {},
   "outputs": [
    {
     "data": {
      "text/plain": [
       "{'Name': 'Md. Zubayer hasan',\n",
       " 'varsity': 'Govt. titumir College',\n",
       " 'Study': 'Honours 3rd year',\n",
       " 'dept.': 'Data Science'}"
      ]
     },
     "execution_count": 30,
     "metadata": {},
     "output_type": "execute_result"
    }
   ],
   "source": [
    "dic"
   ]
  },
  {
   "cell_type": "code",
   "execution_count": 32,
   "id": "2bb32da5",
   "metadata": {},
   "outputs": [
    {
     "data": {
      "text/plain": [
       "('dept.', 'Data Science')"
      ]
     },
     "execution_count": 32,
     "metadata": {},
     "output_type": "execute_result"
    }
   ],
   "source": [
    "dic.popitem()"
   ]
  },
  {
   "cell_type": "code",
   "execution_count": 34,
   "id": "ae236f33",
   "metadata": {},
   "outputs": [
    {
     "data": {
      "text/plain": [
       "'Govt. titumir College'"
      ]
     },
     "execution_count": 34,
     "metadata": {},
     "output_type": "execute_result"
    }
   ],
   "source": [
    "dic.pop(\"varsity\")"
   ]
  },
  {
   "cell_type": "code",
   "execution_count": 35,
   "id": "35768f1b",
   "metadata": {},
   "outputs": [
    {
     "data": {
      "text/plain": [
       "{'Name': 'Md. Zubayer hasan', 'Study': 'Honours 3rd year'}"
      ]
     },
     "execution_count": 35,
     "metadata": {},
     "output_type": "execute_result"
    }
   ],
   "source": [
    "dic"
   ]
  },
  {
   "cell_type": "code",
   "execution_count": 36,
   "id": "6bcc283e",
   "metadata": {},
   "outputs": [],
   "source": [
    "del dic[\"Name\"]"
   ]
  },
  {
   "cell_type": "code",
   "execution_count": 37,
   "id": "7aaaf29d",
   "metadata": {},
   "outputs": [
    {
     "data": {
      "text/plain": [
       "{'Study': 'Honours 3rd year'}"
      ]
     },
     "execution_count": 37,
     "metadata": {},
     "output_type": "execute_result"
    }
   ],
   "source": [
    "dic"
   ]
  },
  {
   "cell_type": "code",
   "execution_count": 38,
   "id": "a527e136",
   "metadata": {},
   "outputs": [],
   "source": [
    "dic[\"dept.2\"] = \"ai\""
   ]
  },
  {
   "cell_type": "code",
   "execution_count": 39,
   "id": "87de9bbe",
   "metadata": {},
   "outputs": [
    {
     "data": {
      "text/plain": [
       "{'Study': 'Honours 3rd year', 'dept.2': 'ai'}"
      ]
     },
     "execution_count": 39,
     "metadata": {},
     "output_type": "execute_result"
    }
   ],
   "source": [
    "dic"
   ]
  },
  {
   "cell_type": "code",
   "execution_count": 41,
   "id": "303d9f90",
   "metadata": {},
   "outputs": [
    {
     "name": "stdout",
     "output_type": "stream",
     "text": [
      "Honours 3rd year\n",
      "ai\n"
     ]
    }
   ],
   "source": [
    "#print all values\n",
    "for i in dic:\n",
    "    print(dic[i])"
   ]
  },
  {
   "cell_type": "code",
   "execution_count": 42,
   "id": "62020ce3",
   "metadata": {},
   "outputs": [
    {
     "name": "stdout",
     "output_type": "stream",
     "text": [
      "Study\n",
      "dept.2\n"
     ]
    }
   ],
   "source": [
    "#print all keys\n",
    "for i in dic:\n",
    "    print(i)"
   ]
  },
  {
   "cell_type": "code",
   "execution_count": 43,
   "id": "8bfb09db",
   "metadata": {},
   "outputs": [],
   "source": [
    "#for creating list from dict.\n",
    "d2 = list(dic.keys())"
   ]
  },
  {
   "cell_type": "code",
   "execution_count": 44,
   "id": "7fbe10d2",
   "metadata": {},
   "outputs": [
    {
     "data": {
      "text/plain": [
       "['Study', 'dept.2']"
      ]
     },
     "execution_count": 44,
     "metadata": {},
     "output_type": "execute_result"
    }
   ],
   "source": [
    "d2"
   ]
  },
  {
   "cell_type": "code",
   "execution_count": 45,
   "id": "e1fe5da3",
   "metadata": {},
   "outputs": [],
   "source": [
    "d3 = list(dic.values())"
   ]
  },
  {
   "cell_type": "code",
   "execution_count": 46,
   "id": "98fa8826",
   "metadata": {},
   "outputs": [
    {
     "data": {
      "text/plain": [
       "['Honours 3rd year', 'ai']"
      ]
     },
     "execution_count": 46,
     "metadata": {},
     "output_type": "execute_result"
    }
   ],
   "source": [
    "d3"
   ]
  },
  {
   "cell_type": "code",
   "execution_count": 48,
   "id": "55d18c89",
   "metadata": {},
   "outputs": [
    {
     "name": "stdout",
     "output_type": "stream",
     "text": [
      "2\n",
      "Name\n",
      "Md. Zubayer hasan\n",
      "varsity\n",
      "Govt. Titumir College\n",
      "{'Name': 'Md. Zubayer hasan', 'varsity': 'Govt. Titumir College'}\n"
     ]
    }
   ],
   "source": [
    "#dict. from user input\n",
    "n = int(input())\n",
    "dic = {}\n",
    "for i in range(n):\n",
    "    keys = input()\n",
    "    values = input()\n",
    "    dic[keys]=values\n",
    "print(dic)"
   ]
  },
  {
   "cell_type": "code",
   "execution_count": 49,
   "id": "4fa4bb87",
   "metadata": {},
   "outputs": [
    {
     "data": {
      "text/plain": [
       "{'Name': 'Md. Zubayer hasan', 'varsity': 'Govt. Titumir College'}"
      ]
     },
     "execution_count": 49,
     "metadata": {},
     "output_type": "execute_result"
    }
   ],
   "source": [
    "dic"
   ]
  },
  {
   "cell_type": "code",
   "execution_count": null,
   "id": "8e28cfd6",
   "metadata": {},
   "outputs": [],
   "source": []
  }
 ],
 "metadata": {
  "kernelspec": {
   "display_name": "Python 3 (ipykernel)",
   "language": "python",
   "name": "python3"
  },
  "language_info": {
   "codemirror_mode": {
    "name": "ipython",
    "version": 3
   },
   "file_extension": ".py",
   "mimetype": "text/x-python",
   "name": "python",
   "nbconvert_exporter": "python",
   "pygments_lexer": "ipython3",
   "version": "3.11.5"
  }
 },
 "nbformat": 4,
 "nbformat_minor": 5
}
