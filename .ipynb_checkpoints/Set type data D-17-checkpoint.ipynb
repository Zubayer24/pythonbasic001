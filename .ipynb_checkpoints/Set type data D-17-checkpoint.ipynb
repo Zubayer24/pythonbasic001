{
 "cells": [
  {
   "cell_type": "markdown",
   "id": "16bc1c12",
   "metadata": {},
   "source": [
    "# Set in python"
   ]
  },
  {
   "cell_type": "code",
   "execution_count": 1,
   "id": "e79f8c75",
   "metadata": {},
   "outputs": [],
   "source": [
    "set1 = {5,10,15,12,20,(1,7,10)}"
   ]
  },
  {
   "cell_type": "code",
   "execution_count": 2,
   "id": "2c93d7b5",
   "metadata": {},
   "outputs": [
    {
     "data": {
      "text/plain": [
       "set"
      ]
     },
     "execution_count": 2,
     "metadata": {},
     "output_type": "execute_result"
    }
   ],
   "source": [
    "type(set1)"
   ]
  },
  {
   "cell_type": "code",
   "execution_count": 3,
   "id": "74a97a10",
   "metadata": {},
   "outputs": [
    {
     "ename": "TypeError",
     "evalue": "'set' object is not subscriptable",
     "output_type": "error",
     "traceback": [
      "\u001b[1;31m---------------------------------------------------------------------------\u001b[0m",
      "\u001b[1;31mTypeError\u001b[0m                                 Traceback (most recent call last)",
      "Cell \u001b[1;32mIn[3], line 1\u001b[0m\n\u001b[1;32m----> 1\u001b[0m set1[\u001b[38;5;241m-\u001b[39m\u001b[38;5;241m1\u001b[39m]\n",
      "\u001b[1;31mTypeError\u001b[0m: 'set' object is not subscriptable"
     ]
    }
   ],
   "source": [
    "set1[-1]  # set is unindexed."
   ]
  },
  {
   "cell_type": "code",
   "execution_count": 4,
   "id": "d9749a1a",
   "metadata": {},
   "outputs": [
    {
     "data": {
      "text/plain": [
       "{(1, 7, 10), 10, 12, 15, 20, 5}"
      ]
     },
     "execution_count": 4,
     "metadata": {},
     "output_type": "execute_result"
    }
   ],
   "source": [
    "set1"
   ]
  },
  {
   "cell_type": "code",
   "execution_count": 5,
   "id": "0d87a874",
   "metadata": {},
   "outputs": [
    {
     "data": {
      "text/plain": [
       "{(1, 7, 10), 10, 100, 12, 15, 20, 5}"
      ]
     },
     "execution_count": 5,
     "metadata": {},
     "output_type": "execute_result"
    }
   ],
   "source": [
    "#add method for add something in set.\n",
    "set1.add(100)\n",
    "set1"
   ]
  },
  {
   "cell_type": "code",
   "execution_count": 6,
   "id": "92f3480b",
   "metadata": {},
   "outputs": [
    {
     "data": {
      "text/plain": [
       "{(1, 7, 10), 10, 100, 12, 15, 20, 5, 55, 65, 765}"
      ]
     },
     "execution_count": 6,
     "metadata": {},
     "output_type": "execute_result"
    }
   ],
   "source": [
    "#update method for add multiple value in set.\n",
    "set1.update([10,55,65,765])\n",
    "set1"
   ]
  },
  {
   "cell_type": "code",
   "execution_count": 8,
   "id": "631c91ba",
   "metadata": {},
   "outputs": [],
   "source": [
    "set2 = {1000,1500,1.527}\n",
    "set1.update(set2)"
   ]
  },
  {
   "cell_type": "code",
   "execution_count": 9,
   "id": "266d15f2",
   "metadata": {},
   "outputs": [
    {
     "data": {
      "text/plain": [
       "{(1, 7, 10), 1.527, 10, 100, 1000, 12, 15, 1500, 20, 5, 55, 65, 765}"
      ]
     },
     "execution_count": 9,
     "metadata": {},
     "output_type": "execute_result"
    }
   ],
   "source": [
    "set1"
   ]
  },
  {
   "cell_type": "code",
   "execution_count": 10,
   "id": "ebf142b9",
   "metadata": {},
   "outputs": [],
   "source": [
    "set1.discard(1000)"
   ]
  },
  {
   "cell_type": "code",
   "execution_count": 11,
   "id": "a07dcd44",
   "metadata": {},
   "outputs": [
    {
     "data": {
      "text/plain": [
       "{(1, 7, 10), 1.527, 10, 100, 12, 15, 1500, 20, 5, 55, 65, 765}"
      ]
     },
     "execution_count": 11,
     "metadata": {},
     "output_type": "execute_result"
    }
   ],
   "source": [
    "set1"
   ]
  },
  {
   "cell_type": "code",
   "execution_count": 13,
   "id": "e3022179",
   "metadata": {},
   "outputs": [],
   "source": [
    "set1.remove(10)"
   ]
  },
  {
   "cell_type": "code",
   "execution_count": 14,
   "id": "8639625c",
   "metadata": {},
   "outputs": [
    {
     "data": {
      "text/plain": [
       "{(1, 7, 10), 1.527, 100, 12, 15, 1500, 20, 5, 55, 65, 765}"
      ]
     },
     "execution_count": 14,
     "metadata": {},
     "output_type": "execute_result"
    }
   ],
   "source": [
    "set1"
   ]
  },
  {
   "cell_type": "code",
   "execution_count": 16,
   "id": "5e280bbf",
   "metadata": {},
   "outputs": [],
   "source": [
    "set1.remove((1,7,10))"
   ]
  },
  {
   "cell_type": "code",
   "execution_count": 17,
   "id": "d37b03c8",
   "metadata": {},
   "outputs": [
    {
     "data": {
      "text/plain": [
       "{1.527, 5, 12, 15, 20, 55, 65, 100, 765, 1500}"
      ]
     },
     "execution_count": 17,
     "metadata": {},
     "output_type": "execute_result"
    }
   ],
   "source": [
    "set1"
   ]
  },
  {
   "cell_type": "code",
   "execution_count": 18,
   "id": "f8f6ce88",
   "metadata": {},
   "outputs": [
    {
     "data": {
      "text/plain": [
       "set()"
      ]
     },
     "execution_count": 18,
     "metadata": {},
     "output_type": "execute_result"
    }
   ],
   "source": [
    "set1.clear()\n",
    "set1"
   ]
  },
  {
   "cell_type": "code",
   "execution_count": 24,
   "id": "40570b92",
   "metadata": {},
   "outputs": [
    {
     "data": {
      "text/plain": [
       "65"
      ]
     },
     "execution_count": 24,
     "metadata": {},
     "output_type": "execute_result"
    }
   ],
   "source": [
    "set2 = {6,2,5,1,50,65,75}\n",
    "set2.pop()"
   ]
  },
  {
   "cell_type": "code",
   "execution_count": 25,
   "id": "bd8c1c3a",
   "metadata": {},
   "outputs": [
    {
     "data": {
      "text/plain": [
       "{1, 2, 5, 6, 50, 75}"
      ]
     },
     "execution_count": 25,
     "metadata": {},
     "output_type": "execute_result"
    }
   ],
   "source": [
    "set2"
   ]
  },
  {
   "cell_type": "markdown",
   "id": "fc37daa2",
   "metadata": {},
   "source": [
    "# Python in Set Methods"
   ]
  },
  {
   "cell_type": "code",
   "execution_count": 1,
   "id": "785871b9",
   "metadata": {},
   "outputs": [],
   "source": [
    "s1 = {1,2,3,4}\n",
    "s2 = {1,4,\"a\",\"b\"}"
   ]
  },
  {
   "cell_type": "code",
   "execution_count": 2,
   "id": "d44b6b6e",
   "metadata": {},
   "outputs": [
    {
     "data": {
      "text/plain": [
       "{1, 2, 3, 4}"
      ]
     },
     "execution_count": 2,
     "metadata": {},
     "output_type": "execute_result"
    }
   ],
   "source": [
    "s1"
   ]
  },
  {
   "cell_type": "code",
   "execution_count": 3,
   "id": "e57096b9",
   "metadata": {},
   "outputs": [
    {
     "data": {
      "text/plain": [
       "{1, 4, 'a', 'b'}"
      ]
     },
     "execution_count": 3,
     "metadata": {},
     "output_type": "execute_result"
    }
   ],
   "source": [
    "s2"
   ]
  },
  {
   "cell_type": "code",
   "execution_count": 4,
   "id": "87314827",
   "metadata": {},
   "outputs": [],
   "source": [
    "s3 = frozenset(s2)"
   ]
  },
  {
   "cell_type": "code",
   "execution_count": 5,
   "id": "d93f13e6",
   "metadata": {},
   "outputs": [
    {
     "data": {
      "text/plain": [
       "frozenset({1, 4, 'a', 'b'})"
      ]
     },
     "execution_count": 5,
     "metadata": {},
     "output_type": "execute_result"
    }
   ],
   "source": [
    "s3"
   ]
  },
  {
   "cell_type": "code",
   "execution_count": 8,
   "id": "5a98c890",
   "metadata": {},
   "outputs": [],
   "source": [
    "s1.add(\"d\")"
   ]
  },
  {
   "cell_type": "code",
   "execution_count": 9,
   "id": "23affeb2",
   "metadata": {},
   "outputs": [
    {
     "data": {
      "text/plain": [
       "{1, 2, 3, 4, 'd'}"
      ]
     },
     "execution_count": 9,
     "metadata": {},
     "output_type": "execute_result"
    }
   ],
   "source": [
    "s1"
   ]
  },
  {
   "cell_type": "code",
   "execution_count": 10,
   "id": "e7c165bb",
   "metadata": {},
   "outputs": [],
   "source": [
    "s2 = s1"
   ]
  },
  {
   "cell_type": "code",
   "execution_count": 11,
   "id": "6b89a7f0",
   "metadata": {},
   "outputs": [],
   "source": [
    "s2.remove(\"d\")"
   ]
  },
  {
   "cell_type": "code",
   "execution_count": 12,
   "id": "3e5eb18e",
   "metadata": {},
   "outputs": [
    {
     "data": {
      "text/plain": [
       "{1, 2, 3, 4}"
      ]
     },
     "execution_count": 12,
     "metadata": {},
     "output_type": "execute_result"
    }
   ],
   "source": [
    "s2"
   ]
  },
  {
   "cell_type": "code",
   "execution_count": 13,
   "id": "1906069a",
   "metadata": {},
   "outputs": [
    {
     "data": {
      "text/plain": [
       "{1, 2, 3, 4}"
      ]
     },
     "execution_count": 13,
     "metadata": {},
     "output_type": "execute_result"
    }
   ],
   "source": [
    "s1"
   ]
  },
  {
   "cell_type": "code",
   "execution_count": 17,
   "id": "63bfaa4d",
   "metadata": {},
   "outputs": [],
   "source": [
    "s4 = s1.copy()"
   ]
  },
  {
   "cell_type": "code",
   "execution_count": 15,
   "id": "c1330c1f",
   "metadata": {},
   "outputs": [
    {
     "data": {
      "text/plain": [
       "{1, 2, 3, 4}"
      ]
     },
     "execution_count": 15,
     "metadata": {},
     "output_type": "execute_result"
    }
   ],
   "source": [
    "s4"
   ]
  },
  {
   "cell_type": "code",
   "execution_count": 19,
   "id": "9dba3579",
   "metadata": {},
   "outputs": [],
   "source": [
    "s4.remove(2)"
   ]
  },
  {
   "cell_type": "code",
   "execution_count": 20,
   "id": "13310639",
   "metadata": {},
   "outputs": [
    {
     "data": {
      "text/plain": [
       "{1, 3, 4}"
      ]
     },
     "execution_count": 20,
     "metadata": {},
     "output_type": "execute_result"
    }
   ],
   "source": [
    "s4"
   ]
  },
  {
   "cell_type": "code",
   "execution_count": 21,
   "id": "cac13f80",
   "metadata": {},
   "outputs": [
    {
     "data": {
      "text/plain": [
       "{1, 2, 3, 4}"
      ]
     },
     "execution_count": 21,
     "metadata": {},
     "output_type": "execute_result"
    }
   ],
   "source": [
    "s1"
   ]
  },
  {
   "cell_type": "code",
   "execution_count": 22,
   "id": "cdf7d9dc",
   "metadata": {},
   "outputs": [
    {
     "data": {
      "text/plain": [
       "frozenset({1, 4, 'a', 'b'})"
      ]
     },
     "execution_count": 22,
     "metadata": {},
     "output_type": "execute_result"
    }
   ],
   "source": [
    "s3"
   ]
  },
  {
   "cell_type": "code",
   "execution_count": 23,
   "id": "6d10e275",
   "metadata": {},
   "outputs": [
    {
     "data": {
      "text/plain": [
       "{2, 3}"
      ]
     },
     "execution_count": 23,
     "metadata": {},
     "output_type": "execute_result"
    }
   ],
   "source": [
    "s1.difference(s3)"
   ]
  },
  {
   "cell_type": "code",
   "execution_count": 24,
   "id": "ad8e2d11",
   "metadata": {},
   "outputs": [
    {
     "data": {
      "text/plain": [
       "frozenset({'a', 'b'})"
      ]
     },
     "execution_count": 24,
     "metadata": {},
     "output_type": "execute_result"
    }
   ],
   "source": [
    "s3.difference(s1)"
   ]
  },
  {
   "cell_type": "code",
   "execution_count": 25,
   "id": "aef45b16",
   "metadata": {},
   "outputs": [
    {
     "data": {
      "text/plain": [
       "{1, 3, 4}"
      ]
     },
     "execution_count": 25,
     "metadata": {},
     "output_type": "execute_result"
    }
   ],
   "source": [
    "s4"
   ]
  },
  {
   "cell_type": "code",
   "execution_count": 34,
   "id": "16bb1745",
   "metadata": {},
   "outputs": [],
   "source": [
    "Set_1 = {50,60,70}\n",
    "Set_2 = {10,60,30}"
   ]
  },
  {
   "cell_type": "code",
   "execution_count": 35,
   "id": "fae4842d",
   "metadata": {},
   "outputs": [
    {
     "data": {
      "text/plain": [
       "{50, 70}"
      ]
     },
     "execution_count": 35,
     "metadata": {},
     "output_type": "execute_result"
    }
   ],
   "source": [
    "Set_1.difference(Set_2)"
   ]
  },
  {
   "cell_type": "code",
   "execution_count": 36,
   "id": "c332122f",
   "metadata": {},
   "outputs": [
    {
     "data": {
      "text/plain": [
       "{10, 30}"
      ]
     },
     "execution_count": 36,
     "metadata": {},
     "output_type": "execute_result"
    }
   ],
   "source": [
    "Set_2.difference(Set_1)"
   ]
  },
  {
   "cell_type": "code",
   "execution_count": 37,
   "id": "3a39b3fa",
   "metadata": {},
   "outputs": [],
   "source": [
    "Set_1.difference_update(Set_2)"
   ]
  },
  {
   "cell_type": "code",
   "execution_count": 38,
   "id": "3687e824",
   "metadata": {},
   "outputs": [
    {
     "data": {
      "text/plain": [
       "{50, 70}"
      ]
     },
     "execution_count": 38,
     "metadata": {},
     "output_type": "execute_result"
    }
   ],
   "source": [
    "Set_1"
   ]
  },
  {
   "cell_type": "code",
   "execution_count": 44,
   "id": "a0a070e3",
   "metadata": {},
   "outputs": [],
   "source": [
    "Set_1 = {50,60,70}\n",
    "Set_2 = {10,60,30}"
   ]
  },
  {
   "cell_type": "code",
   "execution_count": 45,
   "id": "0e878cfb",
   "metadata": {},
   "outputs": [
    {
     "data": {
      "text/plain": [
       "False"
      ]
     },
     "execution_count": 45,
     "metadata": {},
     "output_type": "execute_result"
    }
   ],
   "source": [
    "Set_1.issubset(Set_2)"
   ]
  },
  {
   "cell_type": "code",
   "execution_count": 47,
   "id": "dc230af1",
   "metadata": {},
   "outputs": [
    {
     "data": {
      "text/plain": [
       "True"
      ]
     },
     "execution_count": 47,
     "metadata": {},
     "output_type": "execute_result"
    }
   ],
   "source": [
    "{50}.issubset(Set_1)"
   ]
  },
  {
   "cell_type": "code",
   "execution_count": 46,
   "id": "1562a4b3",
   "metadata": {},
   "outputs": [
    {
     "data": {
      "text/plain": [
       "False"
      ]
     },
     "execution_count": 46,
     "metadata": {},
     "output_type": "execute_result"
    }
   ],
   "source": [
    "Set_2.issubset(Set_1)"
   ]
  },
  {
   "cell_type": "code",
   "execution_count": 50,
   "id": "d90521fa",
   "metadata": {},
   "outputs": [
    {
     "data": {
      "text/plain": [
       "True"
      ]
     },
     "execution_count": 50,
     "metadata": {},
     "output_type": "execute_result"
    }
   ],
   "source": [
    "{60,30}.issubset(Set_2)"
   ]
  },
  {
   "cell_type": "code",
   "execution_count": 52,
   "id": "f32ee875",
   "metadata": {},
   "outputs": [
    {
     "data": {
      "text/plain": [
       "True"
      ]
     },
     "execution_count": 52,
     "metadata": {},
     "output_type": "execute_result"
    }
   ],
   "source": [
    "Set_1.issuperset({70,50})"
   ]
  },
  {
   "cell_type": "code",
   "execution_count": 53,
   "id": "db73fe18",
   "metadata": {},
   "outputs": [
    {
     "data": {
      "text/plain": [
       "True"
      ]
     },
     "execution_count": 53,
     "metadata": {},
     "output_type": "execute_result"
    }
   ],
   "source": [
    "Set_2.issuperset({10,60})"
   ]
  },
  {
   "cell_type": "code",
   "execution_count": 55,
   "id": "0244537e",
   "metadata": {},
   "outputs": [],
   "source": [
    "s1 = {7,8,1,2}\n",
    "s2 = {1,2,5,6}"
   ]
  },
  {
   "cell_type": "code",
   "execution_count": 56,
   "id": "7764b271",
   "metadata": {},
   "outputs": [
    {
     "data": {
      "text/plain": [
       "{5, 6, 7, 8}"
      ]
     },
     "execution_count": 56,
     "metadata": {},
     "output_type": "execute_result"
    }
   ],
   "source": [
    "s1.symmetric_difference(s2)"
   ]
  },
  {
   "cell_type": "code",
   "execution_count": 57,
   "id": "74a9f456",
   "metadata": {},
   "outputs": [
    {
     "data": {
      "text/plain": [
       "{5, 6, 7, 8}"
      ]
     },
     "execution_count": 57,
     "metadata": {},
     "output_type": "execute_result"
    }
   ],
   "source": [
    "s2.symmetric_difference(s1)"
   ]
  },
  {
   "cell_type": "code",
   "execution_count": 58,
   "id": "b7e6bbfd",
   "metadata": {},
   "outputs": [],
   "source": [
    "s1.symmetric_difference_update(s2)"
   ]
  },
  {
   "cell_type": "code",
   "execution_count": 59,
   "id": "8977c1e4",
   "metadata": {},
   "outputs": [
    {
     "data": {
      "text/plain": [
       "{5, 6, 7, 8}"
      ]
     },
     "execution_count": 59,
     "metadata": {},
     "output_type": "execute_result"
    }
   ],
   "source": [
    "s1"
   ]
  }
 ],
 "metadata": {
  "kernelspec": {
   "display_name": "Python 3 (ipykernel)",
   "language": "python",
   "name": "python3"
  },
  "language_info": {
   "codemirror_mode": {
    "name": "ipython",
    "version": 3
   },
   "file_extension": ".py",
   "mimetype": "text/x-python",
   "name": "python",
   "nbconvert_exporter": "python",
   "pygments_lexer": "ipython3",
   "version": "3.11.5"
  }
 },
 "nbformat": 4,
 "nbformat_minor": 5
}
