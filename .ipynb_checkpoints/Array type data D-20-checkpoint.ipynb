{
 "cells": [
  {
   "cell_type": "markdown",
   "id": "a3a06203",
   "metadata": {},
   "source": [
    "# Array in python\n"
   ]
  },
  {
   "cell_type": "code",
   "execution_count": 2,
   "id": "d31fa350",
   "metadata": {},
   "outputs": [],
   "source": [
    "import array as ar"
   ]
  },
  {
   "cell_type": "code",
   "execution_count": 4,
   "id": "391c621c",
   "metadata": {},
   "outputs": [],
   "source": [
    "ar1 = ar.array(\"i\",[1,2,3,10,50])"
   ]
  },
  {
   "cell_type": "code",
   "execution_count": 5,
   "id": "e660f0ec",
   "metadata": {},
   "outputs": [
    {
     "data": {
      "text/plain": [
       "array('i', [1, 2, 3, 10, 50])"
      ]
     },
     "execution_count": 5,
     "metadata": {},
     "output_type": "execute_result"
    }
   ],
   "source": [
    "ar1"
   ]
  },
  {
   "cell_type": "code",
   "execution_count": 6,
   "id": "3aad1a23",
   "metadata": {},
   "outputs": [],
   "source": [
    "ar1 = ar.array(\"f\",[1,2,3.5,11.05,50])"
   ]
  },
  {
   "cell_type": "code",
   "execution_count": 7,
   "id": "f1974ef0",
   "metadata": {},
   "outputs": [
    {
     "data": {
      "text/plain": [
       "array('f', [1.0, 2.0, 3.5, 11.050000190734863, 50.0])"
      ]
     },
     "execution_count": 7,
     "metadata": {},
     "output_type": "execute_result"
    }
   ],
   "source": [
    "ar1"
   ]
  },
  {
   "cell_type": "code",
   "execution_count": 9,
   "id": "712c99eb",
   "metadata": {},
   "outputs": [
    {
     "data": {
      "text/plain": [
       "100"
      ]
     },
     "execution_count": 9,
     "metadata": {},
     "output_type": "execute_result"
    }
   ],
   "source": [
    "import sys\n",
    "sys.getsizeof(ar1)"
   ]
  },
  {
   "cell_type": "code",
   "execution_count": 10,
   "id": "0befea01",
   "metadata": {},
   "outputs": [
    {
     "data": {
      "text/plain": [
       "1375007885648"
      ]
     },
     "execution_count": 10,
     "metadata": {},
     "output_type": "execute_result"
    }
   ],
   "source": [
    "id(ar1)"
   ]
  },
  {
   "cell_type": "code",
   "execution_count": 12,
   "id": "2d41498e",
   "metadata": {},
   "outputs": [
    {
     "data": {
      "text/plain": [
       "3.5"
      ]
     },
     "execution_count": 12,
     "metadata": {},
     "output_type": "execute_result"
    }
   ],
   "source": [
    "ar1[2]"
   ]
  },
  {
   "cell_type": "code",
   "execution_count": 13,
   "id": "fe08c211",
   "metadata": {},
   "outputs": [],
   "source": [
    "ar1[2] = 15"
   ]
  },
  {
   "cell_type": "code",
   "execution_count": 14,
   "id": "28513899",
   "metadata": {},
   "outputs": [
    {
     "data": {
      "text/plain": [
       "array('f', [1.0, 2.0, 15.0, 11.050000190734863, 50.0])"
      ]
     },
     "execution_count": 14,
     "metadata": {},
     "output_type": "execute_result"
    }
   ],
   "source": [
    "ar1"
   ]
  },
  {
   "cell_type": "code",
   "execution_count": 15,
   "id": "749e29ef",
   "metadata": {},
   "outputs": [],
   "source": [
    "ar1.append(8)"
   ]
  },
  {
   "cell_type": "code",
   "execution_count": 16,
   "id": "31dd6490",
   "metadata": {},
   "outputs": [
    {
     "data": {
      "text/plain": [
       "array('f', [1.0, 2.0, 15.0, 11.050000190734863, 50.0, 8.0])"
      ]
     },
     "execution_count": 16,
     "metadata": {},
     "output_type": "execute_result"
    }
   ],
   "source": [
    "ar1"
   ]
  },
  {
   "cell_type": "code",
   "execution_count": 17,
   "id": "6b153be2",
   "metadata": {},
   "outputs": [],
   "source": [
    "del ar1[-1]"
   ]
  },
  {
   "cell_type": "code",
   "execution_count": 18,
   "id": "85b148ee",
   "metadata": {},
   "outputs": [
    {
     "data": {
      "text/plain": [
       "array('f', [1.0, 2.0, 15.0, 11.050000190734863, 50.0])"
      ]
     },
     "execution_count": 18,
     "metadata": {},
     "output_type": "execute_result"
    }
   ],
   "source": [
    "ar1"
   ]
  },
  {
   "cell_type": "code",
   "execution_count": 19,
   "id": "d9ba5338",
   "metadata": {},
   "outputs": [
    {
     "data": {
      "text/plain": [
       "5"
      ]
     },
     "execution_count": 19,
     "metadata": {},
     "output_type": "execute_result"
    }
   ],
   "source": [
    "len(ar1)"
   ]
  },
  {
   "cell_type": "code",
   "execution_count": 20,
   "id": "55813e17",
   "metadata": {},
   "outputs": [],
   "source": [
    "ar1.reverse()"
   ]
  },
  {
   "cell_type": "code",
   "execution_count": 21,
   "id": "e11b0d06",
   "metadata": {},
   "outputs": [
    {
     "data": {
      "text/plain": [
       "array('f', [50.0, 11.050000190734863, 15.0, 2.0, 1.0])"
      ]
     },
     "execution_count": 21,
     "metadata": {},
     "output_type": "execute_result"
    }
   ],
   "source": [
    "ar1"
   ]
  },
  {
   "cell_type": "code",
   "execution_count": 24,
   "id": "1b9cfb27",
   "metadata": {},
   "outputs": [
    {
     "data": {
      "text/plain": [
       "1"
      ]
     },
     "execution_count": 24,
     "metadata": {},
     "output_type": "execute_result"
    }
   ],
   "source": [
    "ar1.count(15)"
   ]
  },
  {
   "cell_type": "code",
   "execution_count": 26,
   "id": "938c14c9",
   "metadata": {},
   "outputs": [
    {
     "data": {
      "text/plain": [
       "1"
      ]
     },
     "execution_count": 26,
     "metadata": {},
     "output_type": "execute_result"
    }
   ],
   "source": [
    "ar1.index( 11.050000190734863)"
   ]
  },
  {
   "cell_type": "code",
   "execution_count": 30,
   "id": "2cc92b49",
   "metadata": {},
   "outputs": [
    {
     "data": {
      "text/plain": [
       "15.0"
      ]
     },
     "execution_count": 30,
     "metadata": {},
     "output_type": "execute_result"
    }
   ],
   "source": [
    "ar1.pop(1)"
   ]
  },
  {
   "cell_type": "code",
   "execution_count": 31,
   "id": "54fe71c1",
   "metadata": {},
   "outputs": [
    {
     "data": {
      "text/plain": [
       "array('f', [50.0, 2.0, 1.0])"
      ]
     },
     "execution_count": 31,
     "metadata": {},
     "output_type": "execute_result"
    }
   ],
   "source": [
    "ar1"
   ]
  },
  {
   "cell_type": "code",
   "execution_count": 32,
   "id": "c5e039a6",
   "metadata": {},
   "outputs": [
    {
     "name": "stdout",
     "output_type": "stream",
     "text": [
      "3\n",
      "5\n",
      "array('i', [5])\n",
      "6\n",
      "array('i', [5, 6])\n",
      "7\n",
      "array('i', [5, 6, 7])\n"
     ]
    }
   ],
   "source": [
    "r = ar.array(\"i\",[])\n",
    "items = int(input())\n",
    "for i in range(items):\n",
    "    val = int(input())\n",
    "    r.append(val)\n",
    "    print(r)"
   ]
  },
  {
   "cell_type": "code",
   "execution_count": 33,
   "id": "6be88d2a",
   "metadata": {},
   "outputs": [
    {
     "name": "stdout",
     "output_type": "stream",
     "text": [
      "3\n",
      "10\n",
      "11\n",
      "12\n",
      "array('i', [10, 11, 12])\n"
     ]
    }
   ],
   "source": [
    "r = ar.array(\"i\",[])\n",
    "items = int(input())\n",
    "for i in range(items):\n",
    "    val = int(input())\n",
    "    r.append(val)\n",
    "print(r)"
   ]
  },
  {
   "cell_type": "code",
   "execution_count": null,
   "id": "07219f9a",
   "metadata": {},
   "outputs": [],
   "source": []
  }
 ],
 "metadata": {
  "kernelspec": {
   "display_name": "Python 3 (ipykernel)",
   "language": "python",
   "name": "python3"
  },
  "language_info": {
   "codemirror_mode": {
    "name": "ipython",
    "version": 3
   },
   "file_extension": ".py",
   "mimetype": "text/x-python",
   "name": "python",
   "nbconvert_exporter": "python",
   "pygments_lexer": "ipython3",
   "version": "3.11.5"
  }
 },
 "nbformat": 4,
 "nbformat_minor": 5
}
