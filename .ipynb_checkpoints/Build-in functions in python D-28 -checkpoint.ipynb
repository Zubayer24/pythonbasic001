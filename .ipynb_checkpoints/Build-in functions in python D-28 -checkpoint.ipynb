{
 "cells": [
  {
   "cell_type": "markdown",
   "id": "4f65366d",
   "metadata": {},
   "source": [
    "# Commonly used build-in functions in Python."
   ]
  },
  {
   "cell_type": "markdown",
   "id": "3173f486",
   "metadata": {},
   "source": [
    "# 1. print()"
   ]
  },
  {
   "cell_type": "code",
   "execution_count": null,
   "id": "002625dd",
   "metadata": {},
   "outputs": [],
   "source": [
    "print('Data Science')"
   ]
  },
  {
   "cell_type": "markdown",
   "id": "34631060",
   "metadata": {},
   "source": [
    "# 2.len(): returns the length of an object."
   ]
  },
  {
   "cell_type": "code",
   "execution_count": 3,
   "id": "6f35b4bb",
   "metadata": {},
   "outputs": [],
   "source": [
    "my_list = [1,2,3,4,5]\n",
    "length = len(my_list)"
   ]
  },
  {
   "cell_type": "code",
   "execution_count": 4,
   "id": "cbe79c4e",
   "metadata": {},
   "outputs": [
    {
     "data": {
      "text/plain": [
       "5"
      ]
     },
     "execution_count": 4,
     "metadata": {},
     "output_type": "execute_result"
    }
   ],
   "source": [
    "length"
   ]
  },
  {
   "cell_type": "markdown",
   "id": "f92e7c85",
   "metadata": {},
   "source": [
    "# 3. input():Reads input from the user."
   ]
  },
  {
   "cell_type": "code",
   "execution_count": 5,
   "id": "e1a7083e",
   "metadata": {},
   "outputs": [
    {
     "name": "stdout",
     "output_type": "stream",
     "text": [
      "Enter something: zubayer\n"
     ]
    }
   ],
   "source": [
    "user_input = input('Enter something: ')"
   ]
  },
  {
   "cell_type": "code",
   "execution_count": 6,
   "id": "106dacba",
   "metadata": {},
   "outputs": [
    {
     "data": {
      "text/plain": [
       "'zubayer'"
      ]
     },
     "execution_count": 6,
     "metadata": {},
     "output_type": "execute_result"
    }
   ],
   "source": [
    "user_input"
   ]
  },
  {
   "cell_type": "markdown",
   "id": "ab5f5309",
   "metadata": {},
   "source": [
    "# 4.type()"
   ]
  },
  {
   "cell_type": "code",
   "execution_count": 7,
   "id": "04caff6f",
   "metadata": {},
   "outputs": [
    {
     "data": {
      "text/plain": [
       "int"
      ]
     },
     "execution_count": 7,
     "metadata": {},
     "output_type": "execute_result"
    }
   ],
   "source": [
    "x = 5\n",
    "type(x)"
   ]
  },
  {
   "cell_type": "markdown",
   "id": "8f2ed521",
   "metadata": {},
   "source": [
    "# 5.int(),float(),str():converts values to int/float/str"
   ]
  },
  {
   "cell_type": "code",
   "execution_count": 11,
   "id": "1364801c",
   "metadata": {},
   "outputs": [
    {
     "data": {
      "text/plain": [
       "str"
      ]
     },
     "execution_count": 11,
     "metadata": {},
     "output_type": "execute_result"
    }
   ],
   "source": [
    "num_str = \"42\"\n",
    "type(num_str)"
   ]
  },
  {
   "cell_type": "code",
   "execution_count": 12,
   "id": "b3dd0dfd",
   "metadata": {},
   "outputs": [],
   "source": [
    "num_int = int(num_str)"
   ]
  },
  {
   "cell_type": "code",
   "execution_count": 14,
   "id": "41d17d60",
   "metadata": {},
   "outputs": [
    {
     "data": {
      "text/plain": [
       "int"
      ]
     },
     "execution_count": 14,
     "metadata": {},
     "output_type": "execute_result"
    }
   ],
   "source": [
    "type(num_int)"
   ]
  },
  {
   "cell_type": "markdown",
   "id": "e9abeef4",
   "metadata": {},
   "source": [
    "# 6. Range(): Genarates a sequence of numbers"
   ]
  },
  {
   "cell_type": "code",
   "execution_count": 15,
   "id": "87b8fb6d",
   "metadata": {},
   "outputs": [],
   "source": [
    "numbers = list(range(1,6))"
   ]
  },
  {
   "cell_type": "code",
   "execution_count": 16,
   "id": "3166812f",
   "metadata": {},
   "outputs": [
    {
     "data": {
      "text/plain": [
       "[1, 2, 3, 4, 5]"
      ]
     },
     "execution_count": 16,
     "metadata": {},
     "output_type": "execute_result"
    }
   ],
   "source": [
    "numbers"
   ]
  },
  {
   "cell_type": "markdown",
   "id": "5cd008bf",
   "metadata": {},
   "source": [
    "# 7.sum(): Additioning all the elements"
   ]
  },
  {
   "cell_type": "code",
   "execution_count": 17,
   "id": "1d523d6b",
   "metadata": {},
   "outputs": [
    {
     "data": {
      "text/plain": [
       "[1, 2, 3, 4, 5]"
      ]
     },
     "execution_count": 17,
     "metadata": {},
     "output_type": "execute_result"
    }
   ],
   "source": [
    "numbers"
   ]
  },
  {
   "cell_type": "code",
   "execution_count": 18,
   "id": "761a3ed9",
   "metadata": {},
   "outputs": [
    {
     "data": {
      "text/plain": [
       "15"
      ]
     },
     "execution_count": 18,
     "metadata": {},
     "output_type": "execute_result"
    }
   ],
   "source": [
    "total = sum(numbers)\n",
    "total"
   ]
  },
  {
   "cell_type": "markdown",
   "id": "449ad157",
   "metadata": {},
   "source": [
    "# 8.max(),min():"
   ]
  },
  {
   "cell_type": "code",
   "execution_count": 19,
   "id": "7264f1c0",
   "metadata": {},
   "outputs": [
    {
     "data": {
      "text/plain": [
       "[1, 2, 3, 4, 5]"
      ]
     },
     "execution_count": 19,
     "metadata": {},
     "output_type": "execute_result"
    }
   ],
   "source": [
    "numbers"
   ]
  },
  {
   "cell_type": "code",
   "execution_count": 20,
   "id": "eb9b7ff4",
   "metadata": {},
   "outputs": [],
   "source": [
    "max_val = max(numbers)\n",
    "min_val = min(numbers)"
   ]
  },
  {
   "cell_type": "code",
   "execution_count": 22,
   "id": "ba9fe5b2",
   "metadata": {},
   "outputs": [
    {
     "data": {
      "text/plain": [
       "5"
      ]
     },
     "execution_count": 22,
     "metadata": {},
     "output_type": "execute_result"
    }
   ],
   "source": [
    "max_val"
   ]
  },
  {
   "cell_type": "code",
   "execution_count": 23,
   "id": "fe493102",
   "metadata": {},
   "outputs": [
    {
     "data": {
      "text/plain": [
       "1"
      ]
     },
     "execution_count": 23,
     "metadata": {},
     "output_type": "execute_result"
    }
   ],
   "source": [
    "min_val"
   ]
  },
  {
   "cell_type": "markdown",
   "id": "b4c5aced",
   "metadata": {},
   "source": [
    "# 9.abs():returns a absolute value"
   ]
  },
  {
   "cell_type": "code",
   "execution_count": 25,
   "id": "20dc3b76",
   "metadata": {},
   "outputs": [
    {
     "data": {
      "text/plain": [
       "52"
      ]
     },
     "execution_count": 25,
     "metadata": {},
     "output_type": "execute_result"
    }
   ],
   "source": [
    "absolute_value = abs(-52)\n",
    "absolute_value"
   ]
  },
  {
   "cell_type": "markdown",
   "id": "61f4299b",
   "metadata": {},
   "source": [
    "# 10. Round(): Rounds a floating-point number to a specified number of decimals."
   ]
  },
  {
   "cell_type": "code",
   "execution_count": 26,
   "id": "d6cd398a",
   "metadata": {},
   "outputs": [],
   "source": [
    "rounded_num = round(3.1416,2)   #rounds to 2decimal places."
   ]
  },
  {
   "cell_type": "code",
   "execution_count": 27,
   "id": "174a25f1",
   "metadata": {},
   "outputs": [
    {
     "data": {
      "text/plain": [
       "3.14"
      ]
     },
     "execution_count": 27,
     "metadata": {},
     "output_type": "execute_result"
    }
   ],
   "source": [
    "rounded_num"
   ]
  },
  {
   "cell_type": "markdown",
   "id": "c74ef9f6",
   "metadata": {},
   "source": [
    "# 11. sorted():returns a sorted list from the elements of an iterable."
   ]
  },
  {
   "cell_type": "code",
   "execution_count": 29,
   "id": "b01291b6",
   "metadata": {},
   "outputs": [
    {
     "data": {
      "text/plain": [
       "[1, 2, 3, 5, 6, 45, 54, 74]"
      ]
     },
     "execution_count": 29,
     "metadata": {},
     "output_type": "execute_result"
    }
   ],
   "source": [
    "numbers = [3,1,2,5,6,74,54,45]\n",
    "sorted_numbers = sorted(numbers)\n",
    "sorted_numbers"
   ]
  },
  {
   "cell_type": "markdown",
   "id": "327113c0",
   "metadata": {},
   "source": [
    "# 12.any(),all(): Returns True if any or all elements in an iterable are True"
   ]
  },
  {
   "cell_type": "code",
   "execution_count": 30,
   "id": "7964a7b0",
   "metadata": {},
   "outputs": [],
   "source": [
    "bool_list = [True,False,True]\n",
    "any_list = any(bool_list)\n",
    "all_list = all(bool_list)"
   ]
  },
  {
   "cell_type": "code",
   "execution_count": 31,
   "id": "0d86dc78",
   "metadata": {},
   "outputs": [
    {
     "data": {
      "text/plain": [
       "True"
      ]
     },
     "execution_count": 31,
     "metadata": {},
     "output_type": "execute_result"
    }
   ],
   "source": [
    "any_list   #if any one element is True then it contain a True output. "
   ]
  },
  {
   "cell_type": "code",
   "execution_count": 32,
   "id": "605b6cc8",
   "metadata": {},
   "outputs": [
    {
     "data": {
      "text/plain": [
       "False"
      ]
     },
     "execution_count": 32,
     "metadata": {},
     "output_type": "execute_result"
    }
   ],
   "source": [
    "all_list   #if all elements are True then it contain a True output otherwise False."
   ]
  },
  {
   "cell_type": "markdown",
   "id": "df50d6cb",
   "metadata": {},
   "source": [
    "# 13. str.join():joins elements of an iterable with a str as a separator. "
   ]
  },
  {
   "cell_type": "code",
   "execution_count": 34,
   "id": "c69b0249",
   "metadata": {},
   "outputs": [
    {
     "data": {
      "text/plain": [
       "'apple ; Banana ; Orange'"
      ]
     },
     "execution_count": 34,
     "metadata": {},
     "output_type": "execute_result"
    }
   ],
   "source": [
    "my_list = [\"apple\",\"Banana\",\"Orange\"]\n",
    "joined_str = \" ; \".join(my_list)\n",
    "joined_str"
   ]
  },
  {
   "cell_type": "code",
   "execution_count": 35,
   "id": "6698d3b6",
   "metadata": {},
   "outputs": [
    {
     "data": {
      "text/plain": [
       "'apple + Banana + Orange'"
      ]
     },
     "execution_count": 35,
     "metadata": {},
     "output_type": "execute_result"
    }
   ],
   "source": [
    "joined_str = \" + \".join(my_list)\n",
    "joined_str"
   ]
  },
  {
   "cell_type": "markdown",
   "id": "e64b467d",
   "metadata": {},
   "source": [
    "# 14.lower(),upper():"
   ]
  },
  {
   "cell_type": "code",
   "execution_count": 36,
   "id": "d9cd0e8b",
   "metadata": {},
   "outputs": [],
   "source": [
    "my_str = \"Hello,Bangladesh.\"\n",
    "lower_case = my_str.lower()\n",
    "upper_case = my_str.upper()"
   ]
  },
  {
   "cell_type": "code",
   "execution_count": 37,
   "id": "f0c264b6",
   "metadata": {},
   "outputs": [
    {
     "data": {
      "text/plain": [
       "'hello,bangladesh.'"
      ]
     },
     "execution_count": 37,
     "metadata": {},
     "output_type": "execute_result"
    }
   ],
   "source": [
    "lower_case"
   ]
  },
  {
   "cell_type": "code",
   "execution_count": 38,
   "id": "0c553a2d",
   "metadata": {},
   "outputs": [
    {
     "data": {
      "text/plain": [
       "'HELLO,BANGLADESH.'"
      ]
     },
     "execution_count": 38,
     "metadata": {},
     "output_type": "execute_result"
    }
   ],
   "source": [
    "upper_case"
   ]
  },
  {
   "cell_type": "markdown",
   "id": "4b7519c4",
   "metadata": {},
   "source": [
    "# 15. list(),tuple():converting"
   ]
  },
  {
   "cell_type": "code",
   "execution_count": 40,
   "id": "cc427122",
   "metadata": {},
   "outputs": [
    {
     "data": {
      "text/plain": [
       "[54, 65, 459, 574, 554]"
      ]
     },
     "execution_count": 40,
     "metadata": {},
     "output_type": "execute_result"
    }
   ],
   "source": [
    "my_tuple = (54,65,459,574,554)\n",
    "my_list = list(my_tuple)\n",
    "my_list"
   ]
  },
  {
   "cell_type": "markdown",
   "id": "80767088",
   "metadata": {},
   "source": [
    "# 16. dict():Creates a set"
   ]
  },
  {
   "cell_type": "code",
   "execution_count": 1,
   "id": "aa90aed8",
   "metadata": {},
   "outputs": [
    {
     "data": {
      "text/plain": [
       "{'name': 'John', 'age': 25}"
      ]
     },
     "execution_count": 1,
     "metadata": {},
     "output_type": "execute_result"
    }
   ],
   "source": [
    "my_dict = dict(name =\"John\",age = 25)\n",
    "my_dict"
   ]
  },
  {
   "cell_type": "code",
   "execution_count": 5,
   "id": "5bc27ecc",
   "metadata": {},
   "outputs": [
    {
     "data": {
      "text/plain": [
       "dict_keys(['name', 'age'])"
      ]
     },
     "execution_count": 5,
     "metadata": {},
     "output_type": "execute_result"
    }
   ],
   "source": [
    "my_dict.keys()\n"
   ]
  },
  {
   "cell_type": "code",
   "execution_count": 7,
   "id": "bb5dda98",
   "metadata": {},
   "outputs": [
    {
     "data": {
      "text/plain": [
       "dict_values(['John', 25])"
      ]
     },
     "execution_count": 7,
     "metadata": {},
     "output_type": "execute_result"
    }
   ],
   "source": [
    "my_dict.values()\n"
   ]
  },
  {
   "cell_type": "markdown",
   "id": "a77c2481",
   "metadata": {},
   "source": [
    "# 17.set():Creates a set"
   ]
  },
  {
   "cell_type": "code",
   "execution_count": 2,
   "id": "29156247",
   "metadata": {},
   "outputs": [
    {
     "data": {
      "text/plain": [
       "{1, 2, 3, 4}"
      ]
     },
     "execution_count": 2,
     "metadata": {},
     "output_type": "execute_result"
    }
   ],
   "source": [
    "my_set = set([1,2,3,4])\n",
    "my_set"
   ]
  },
  {
   "cell_type": "markdown",
   "id": "7168e025",
   "metadata": {},
   "source": [
    "# 18. enumerate():Returns tuples with index and corresponding elements."
   ]
  },
  {
   "cell_type": "code",
   "execution_count": 9,
   "id": "614ca549",
   "metadata": {},
   "outputs": [
    {
     "name": "stdout",
     "output_type": "stream",
     "text": [
      "0 a\n",
      "1 b\n",
      "2 c\n"
     ]
    }
   ],
   "source": [
    "my_list = [\"a\",\"b\",\"c\"]\n",
    "for index,value in enumerate(my_list):\n",
    "    print(index,value)"
   ]
  },
  {
   "cell_type": "markdown",
   "id": "b5e4307f",
   "metadata": {},
   "source": [
    "# 19. zip():combines two or more iterables element-wise."
   ]
  },
  {
   "cell_type": "code",
   "execution_count": 10,
   "id": "a8068d4b",
   "metadata": {},
   "outputs": [],
   "source": [
    "names = [\"Alice\",\"Bob\",\"Charlie\"]\n",
    "ages = [25,30,22]\n",
    "zipped_data = zip(names,ages)"
   ]
  },
  {
   "cell_type": "code",
   "execution_count": 11,
   "id": "f7c94dae",
   "metadata": {},
   "outputs": [
    {
     "data": {
      "text/plain": [
       "<zip at 0x1787ae69040>"
      ]
     },
     "execution_count": 11,
     "metadata": {},
     "output_type": "execute_result"
    }
   ],
   "source": [
    "zipped_data"
   ]
  },
  {
   "cell_type": "code",
   "execution_count": 12,
   "id": "e284294a",
   "metadata": {},
   "outputs": [
    {
     "data": {
      "text/plain": [
       "zip"
      ]
     },
     "execution_count": 12,
     "metadata": {},
     "output_type": "execute_result"
    }
   ],
   "source": [
    "type(zipped_data)"
   ]
  },
  {
   "cell_type": "markdown",
   "id": "e5f9540b",
   "metadata": {},
   "source": [
    "# 20. reversed(): Returns a reverse iterator of a sequence"
   ]
  },
  {
   "cell_type": "code",
   "execution_count": 14,
   "id": "5ce852da",
   "metadata": {},
   "outputs": [
    {
     "data": {
      "text/plain": [
       "['c', 'b', 'a']"
      ]
     },
     "execution_count": 14,
     "metadata": {},
     "output_type": "execute_result"
    }
   ],
   "source": [
    "my_list = [\"a\",\"b\",\"c\"]\n",
    "reversed_list = list(reversed(my_list))\n",
    "reversed_list"
   ]
  },
  {
   "cell_type": "markdown",
   "id": "0a786b8c",
   "metadata": {},
   "source": [
    "# 21.  sum() (with start argument): Returns the sum of an iterable with an optional starting value."
   ]
  },
  {
   "cell_type": "code",
   "execution_count": 15,
   "id": "40558d16",
   "metadata": {},
   "outputs": [],
   "source": [
    "numbers = [1,2,3,4]\n",
    "total = sum(numbers,10)  # 10 means the sum starts from 10. "
   ]
  },
  {
   "cell_type": "code",
   "execution_count": 16,
   "id": "9e87e901",
   "metadata": {},
   "outputs": [
    {
     "data": {
      "text/plain": [
       "20"
      ]
     },
     "execution_count": 16,
     "metadata": {},
     "output_type": "execute_result"
    }
   ],
   "source": [
    "total"
   ]
  },
  {
   "cell_type": "markdown",
   "id": "51d6e2ff",
   "metadata": {},
   "source": [
    "# 22.abs() (for complex numbers): Returns the magnitude of a complex number."
   ]
  },
  {
   "cell_type": "code",
   "execution_count": 17,
   "id": "4562f214",
   "metadata": {},
   "outputs": [],
   "source": [
    "complex_num = 3+4j\n",
    "magnitude = abs(complex_num)"
   ]
  },
  {
   "cell_type": "code",
   "execution_count": 18,
   "id": "6d3d0a5a",
   "metadata": {},
   "outputs": [
    {
     "data": {
      "text/plain": [
       "5.0"
      ]
     },
     "execution_count": 18,
     "metadata": {},
     "output_type": "execute_result"
    }
   ],
   "source": [
    "magnitude"
   ]
  },
  {
   "cell_type": "markdown",
   "id": "9f60347b",
   "metadata": {},
   "source": [
    "# 23.slice(): Creates a slice object that can be used to slice sequences like lists and strings."
   ]
  },
  {
   "cell_type": "code",
   "execution_count": 19,
   "id": "6ab42167",
   "metadata": {},
   "outputs": [
    {
     "data": {
      "text/plain": [
       "[2, 3, 4]"
      ]
     },
     "execution_count": 19,
     "metadata": {},
     "output_type": "execute_result"
    }
   ],
   "source": [
    "my_list = [1,2,3,4,5,6]\n",
    "my_slice = slice(1,4)\n",
    "sliced_list = my_list[my_slice]\n",
    "sliced_list"
   ]
  },
  {
   "cell_type": "markdown",
   "id": "8c296a39",
   "metadata": {},
   "source": [
    "# 24.chr(), ord() (extended usage): Handling Unicode characters and code points."
   ]
  },
  {
   "cell_type": "code",
   "execution_count": 20,
   "id": "d662d0d4",
   "metadata": {},
   "outputs": [],
   "source": [
    "euro_symbol = chr(8364)   #returns € \n",
    "code_point = ord('€')    #returns 8364"
   ]
  },
  {
   "cell_type": "code",
   "execution_count": 21,
   "id": "808780d4",
   "metadata": {},
   "outputs": [
    {
     "data": {
      "text/plain": [
       "'€'"
      ]
     },
     "execution_count": 21,
     "metadata": {},
     "output_type": "execute_result"
    }
   ],
   "source": [
    "euro_symbol"
   ]
  },
  {
   "cell_type": "code",
   "execution_count": 22,
   "id": "a3e83681",
   "metadata": {},
   "outputs": [
    {
     "data": {
      "text/plain": [
       "8364"
      ]
     },
     "execution_count": 22,
     "metadata": {},
     "output_type": "execute_result"
    }
   ],
   "source": [
    "code_point"
   ]
  },
  {
   "cell_type": "code",
   "execution_count": 24,
   "id": "a3daccff",
   "metadata": {},
   "outputs": [
    {
     "name": "stdout",
     "output_type": "stream",
     "text": [
      "A\n"
     ]
    }
   ],
   "source": [
    "char = chr(65)    #output: 'A'\n",
    "print(char)"
   ]
  },
  {
   "cell_type": "code",
   "execution_count": 25,
   "id": "facb11b2",
   "metadata": {},
   "outputs": [
    {
     "name": "stdout",
     "output_type": "stream",
     "text": [
      "65\n"
     ]
    }
   ],
   "source": [
    "code_point = ord('A')\n",
    "print(code_point)       #output:65"
   ]
  },
  {
   "cell_type": "code",
   "execution_count": null,
   "id": "2ed88409",
   "metadata": {},
   "outputs": [],
   "source": []
  }
 ],
 "metadata": {
  "kernelspec": {
   "display_name": "Python 3 (ipykernel)",
   "language": "python",
   "name": "python3"
  },
  "language_info": {
   "codemirror_mode": {
    "name": "ipython",
    "version": 3
   },
   "file_extension": ".py",
   "mimetype": "text/x-python",
   "name": "python",
   "nbconvert_exporter": "python",
   "pygments_lexer": "ipython3",
   "version": "3.11.5"
  }
 },
 "nbformat": 4,
 "nbformat_minor": 5
}
