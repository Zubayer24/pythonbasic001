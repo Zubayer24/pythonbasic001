{
 "cells": [
  {
   "cell_type": "code",
   "execution_count": 2,
   "id": "a0eb5508",
   "metadata": {},
   "outputs": [
    {
     "data": {
      "text/plain": [
       "40"
      ]
     },
     "execution_count": 2,
     "metadata": {},
     "output_type": "execute_result"
    }
   ],
   "source": [
    "def add_num(x,y):\n",
    "    result = x+y\n",
    "    return result\n",
    "add_num(10,30)"
   ]
  },
  {
   "cell_type": "code",
   "execution_count": 3,
   "id": "bb662dd9",
   "metadata": {},
   "outputs": [
    {
     "name": "stdout",
     "output_type": "stream",
     "text": [
      "10\n"
     ]
    }
   ],
   "source": [
    "def add_num(x,y):\n",
    "    print(x)\n",
    "\n",
    "add_num(10,30)"
   ]
  },
  {
   "cell_type": "markdown",
   "id": "1174ffd5",
   "metadata": {},
   "source": [
    "1. positional argument\n",
    "2. keyword argument\n",
    "3. default argument\n",
    "4. variable length argument"
   ]
  },
  {
   "cell_type": "markdown",
   "id": "e33594b1",
   "metadata": {},
   "source": [
    "# positional argument"
   ]
  },
  {
   "cell_type": "code",
   "execution_count": 4,
   "id": "22553490",
   "metadata": {},
   "outputs": [
    {
     "data": {
      "text/plain": [
       "40"
      ]
     },
     "execution_count": 4,
     "metadata": {},
     "output_type": "execute_result"
    }
   ],
   "source": [
    "def add_num(x,y):\n",
    "    result = x+y\n",
    "    return result\n",
    "add_num(10,30)"
   ]
  },
  {
   "cell_type": "markdown",
   "id": "68284dad",
   "metadata": {},
   "source": [
    "# keyword argument"
   ]
  },
  {
   "cell_type": "code",
   "execution_count": 8,
   "id": "3472b5c6",
   "metadata": {},
   "outputs": [
    {
     "name": "stdout",
     "output_type": "stream",
     "text": [
      "job = data scientist\n",
      "income = 100000\n"
     ]
    }
   ],
   "source": [
    " def personal(job,income):\n",
    "        print(\"job =\", job)\n",
    "        print(\"income =\" ,income)\n",
    "personal(job = \"data scientist\",income = 100000)"
   ]
  },
  {
   "cell_type": "markdown",
   "id": "d04e0c96",
   "metadata": {},
   "source": [
    "# default argument"
   ]
  },
  {
   "cell_type": "code",
   "execution_count": 10,
   "id": "381ce351",
   "metadata": {},
   "outputs": [
    {
     "name": "stdout",
     "output_type": "stream",
     "text": [
      "job = data scientist\n",
      "income = 200000\n"
     ]
    }
   ],
   "source": [
    " def personal(job,income =100000):\n",
    "        print(\"job =\", job)\n",
    "        print(\"income =\" ,income)\n",
    "personal( \"data scientist\", 200000)"
   ]
  },
  {
   "cell_type": "markdown",
   "id": "ad533146",
   "metadata": {},
   "source": [
    "# variable length argument"
   ]
  },
  {
   "cell_type": "code",
   "execution_count": 2,
   "id": "3be3443d",
   "metadata": {},
   "outputs": [
    {
     "name": "stdout",
     "output_type": "stream",
     "text": [
      "(10, 30, 100)\n"
     ]
    },
    {
     "data": {
      "text/plain": [
       "140"
      ]
     },
     "execution_count": 2,
     "metadata": {},
     "output_type": "execute_result"
    }
   ],
   "source": [
    "def add_num(*x):\n",
    "    print(x)\n",
    "    result = sum(x)\n",
    "    return result\n",
    "\n",
    "add_num(10,30,100)\n",
    "    "
   ]
  },
  {
   "cell_type": "code",
   "execution_count": 3,
   "id": "fc895efd",
   "metadata": {},
   "outputs": [
    {
     "name": "stdout",
     "output_type": "stream",
     "text": [
      "10\n",
      "(30, 100)\n"
     ]
    }
   ],
   "source": [
    "def add_num(x,*y):\n",
    "    print(x)\n",
    "    print(y)\n",
    "    \n",
    "add_num(10,30,100)"
   ]
  },
  {
   "cell_type": "markdown",
   "id": "32816d18",
   "metadata": {},
   "source": [
    "# *args vs **kwords"
   ]
  },
  {
   "cell_type": "code",
   "execution_count": 4,
   "id": "03239026",
   "metadata": {},
   "outputs": [
    {
     "name": "stdout",
     "output_type": "stream",
     "text": [
      "Md. Zubayer Hasan\n",
      "('GTC', 'Nikunja-2')\n",
      "<class 'tuple'>\n"
     ]
    }
   ],
   "source": [
    "def personal_data(name,*arg):\n",
    "    print(name)\n",
    "    print(arg)\n",
    "    print(type(arg))\n",
    "    \n",
    "personal_data(\"Md. Zubayer Hasan\",\"GTC\",\"Nikunja-2\")"
   ]
  },
  {
   "cell_type": "code",
   "execution_count": 5,
   "id": "b6aa89d2",
   "metadata": {},
   "outputs": [
    {
     "name": "stdout",
     "output_type": "stream",
     "text": [
      "Md. Zubayer Hasan\n",
      "{'varsity': 'GTC', 'City': 'Dhaka'}\n",
      "<class 'dict'>\n"
     ]
    }
   ],
   "source": [
    "def personal_data(name,**arg):\n",
    "    print(name)\n",
    "    print(arg)\n",
    "    print(type(arg))\n",
    "    \n",
    "personal_data(\"Md. Zubayer Hasan\",varsity = \"GTC\",City = \"Dhaka\")"
   ]
  },
  {
   "cell_type": "code",
   "execution_count": null,
   "id": "5edcc6cc",
   "metadata": {},
   "outputs": [],
   "source": []
  }
 ],
 "metadata": {
  "kernelspec": {
   "display_name": "Python 3 (ipykernel)",
   "language": "python",
   "name": "python3"
  },
  "language_info": {
   "codemirror_mode": {
    "name": "ipython",
    "version": 3
   },
   "file_extension": ".py",
   "mimetype": "text/x-python",
   "name": "python",
   "nbconvert_exporter": "python",
   "pygments_lexer": "ipython3",
   "version": "3.11.5"
  }
 },
 "nbformat": 4,
 "nbformat_minor": 5
}
