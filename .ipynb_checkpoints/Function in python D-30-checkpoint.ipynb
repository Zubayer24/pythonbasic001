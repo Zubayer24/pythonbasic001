{
 "cells": [
  {
   "cell_type": "markdown",
   "id": "72682b26",
   "metadata": {},
   "source": [
    "# Part-1"
   ]
  },
  {
   "cell_type": "markdown",
   "id": "5a441fe9",
   "metadata": {},
   "source": [
    "# More about return"
   ]
  },
  {
   "cell_type": "code",
   "execution_count": 1,
   "id": "94efee36",
   "metadata": {},
   "outputs": [],
   "source": [
    "def user_input():\n",
    "    x1 = int(input())\n",
    "    x2 = int(input())\n",
    "    y1 = int(input())\n",
    "    y2 = int(input())\n",
    "    \n",
    "    return x1,x2"
   ]
  },
  {
   "cell_type": "code",
   "execution_count": 3,
   "id": "ab73bf99",
   "metadata": {},
   "outputs": [
    {
     "name": "stdout",
     "output_type": "stream",
     "text": [
      "1\n",
      "2\n",
      "3\n",
      "4\n"
     ]
    },
    {
     "data": {
      "text/plain": [
       "(1, 2)"
      ]
     },
     "execution_count": 3,
     "metadata": {},
     "output_type": "execute_result"
    }
   ],
   "source": [
    "user_input()"
   ]
  },
  {
   "cell_type": "code",
   "execution_count": 4,
   "id": "8f5eee16",
   "metadata": {},
   "outputs": [],
   "source": [
    "def user_input():\n",
    "    x1 = int(input())\n",
    "    x2 = int(input())\n",
    "    y1 = int(input())\n",
    "    y2 = int(input())\n",
    "    \n",
    "    return x1,y1,x2,y2"
   ]
  },
  {
   "cell_type": "code",
   "execution_count": 5,
   "id": "870ef475",
   "metadata": {},
   "outputs": [
    {
     "name": "stdout",
     "output_type": "stream",
     "text": [
      "1\n",
      "2\n",
      "3\n",
      "4\n"
     ]
    },
    {
     "data": {
      "text/plain": [
       "(1, 3, 2, 4)"
      ]
     },
     "execution_count": 5,
     "metadata": {},
     "output_type": "execute_result"
    }
   ],
   "source": [
    "user_input()"
   ]
  },
  {
   "cell_type": "code",
   "execution_count": 8,
   "id": "2aed5bba",
   "metadata": {},
   "outputs": [],
   "source": [
    "def user_input():\n",
    "    x1 = int(input())\n",
    "    x2 = int(input())\n",
    "    y1 = int(input())\n",
    "    y2 = int(input())\n",
    "    print(\"Zubayer\")\n",
    "    return (x1,y1),(x2,y2)"
   ]
  },
  {
   "cell_type": "code",
   "execution_count": 7,
   "id": "7dceb0db",
   "metadata": {},
   "outputs": [
    {
     "name": "stdout",
     "output_type": "stream",
     "text": [
      "1\n",
      "2\n",
      "3\n",
      "4\n"
     ]
    },
    {
     "data": {
      "text/plain": [
       "((1, 3), (2, 4))"
      ]
     },
     "execution_count": 7,
     "metadata": {},
     "output_type": "execute_result"
    }
   ],
   "source": [
    "user_input()"
   ]
  },
  {
   "cell_type": "code",
   "execution_count": null,
   "id": "3eb84b11",
   "metadata": {},
   "outputs": [],
   "source": []
  }
 ],
 "metadata": {
  "kernelspec": {
   "display_name": "Python 3 (ipykernel)",
   "language": "python",
   "name": "python3"
  },
  "language_info": {
   "codemirror_mode": {
    "name": "ipython",
    "version": 3
   },
   "file_extension": ".py",
   "mimetype": "text/x-python",
   "name": "python",
   "nbconvert_exporter": "python",
   "pygments_lexer": "ipython3",
   "version": "3.11.5"
  }
 },
 "nbformat": 4,
 "nbformat_minor": 5
}
