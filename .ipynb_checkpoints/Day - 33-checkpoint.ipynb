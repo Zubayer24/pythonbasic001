{
 "cells": [
  {
   "cell_type": "markdown",
   "id": "489018bf",
   "metadata": {},
   "source": [
    "# Problem 1: List Sum\n",
    "Write a Python function that takes a list of numbers as input and returns the sum of all the elements in the list. <br/>\n",
    "input_numbers = [1, 2, 3, 4, 5] <br/>\n",
    "Sum: 15"
   ]
  },
  {
   "cell_type": "code",
   "execution_count": 6,
   "id": "2b452fec",
   "metadata": {},
   "outputs": [],
   "source": [
    "def sum_num(my_list):\n",
    "    sum = 0\n",
    "    for item in my_list:\n",
    "        sum +=item\n",
    "    return sum"
   ]
  },
  {
   "cell_type": "code",
   "execution_count": 7,
   "id": "75508452",
   "metadata": {},
   "outputs": [
    {
     "name": "stdout",
     "output_type": "stream",
     "text": [
      "Enter the size of your list: 5\n",
      "Enter your list number: 1\n",
      "Enter your list number: 2\n",
      "Enter your list number: 3\n",
      "Enter your list number: 4\n",
      "Enter your list number: 5\n",
      "the sum of your list: 15\n"
     ]
    }
   ],
   "source": [
    "input_list = []\n",
    "list_size = int(input(\"Enter the size of your list: \"))\n",
    "for i in range(list_size):\n",
    "    temp_list = int(input(\"Enter your list number: \"))\n",
    "    input_list.append(temp_list)\n",
    "    \n",
    "print(\"the sum of your list:\",sum_num(input_list))\n",
    "    "
   ]
  },
  {
   "cell_type": "markdown",
   "id": "fe55c51b",
   "metadata": {},
   "source": [
    "# Problem 2: List Reversal\n",
    "Create a function that reverses a given list and returns the reversed list. <br>\n",
    "original_list = [10, 20, 30, 40, 50] <br>\n",
    "Reversed List: [50, 40, 30, 20, 10]\n"
   ]
  },
  {
   "cell_type": "code",
   "execution_count": 27,
   "id": "91571cbf",
   "metadata": {},
   "outputs": [],
   "source": [
    "def List_Reversal(original_list):\n",
    "    original_list = list(reversed(input_list))\n",
    "    return original_list"
   ]
  },
  {
   "cell_type": "code",
   "execution_count": 29,
   "id": "4f77d62d",
   "metadata": {},
   "outputs": [
    {
     "name": "stdout",
     "output_type": "stream",
     "text": [
      "Enter your list size: 5\n",
      "Enter your list : 10\n",
      "Enter your list : 20\n",
      "Enter your list : 30\n",
      "Enter your list : 40\n",
      "Enter your list : 50\n",
      "[50, 40, 30, 20, 10]\n"
     ]
    }
   ],
   "source": [
    "input_list = []\n",
    "list_size = int(input(\"Enter your list size: \"))\n",
    "for i in range(list_size):\n",
    "    my_list =int(input(\"Enter your list : \"))\n",
    "    input_list.append(my_list)\n",
    "print(List_Reversal(input_list))"
   ]
  },
  {
   "cell_type": "markdown",
   "id": "a7715d17",
   "metadata": {},
   "source": [
    "# Problem 3: List Even Numbers\n",
    "Write a function that takes a list of integers as input and returns a new list containing only the even numbers. <br>\n",
    "numbers = [1, 2, 3, 4, 5, 6, 7, 8, 9, 10] <br>\n",
    "Even Numbers: [2, 4, 6, 8, 10]"
   ]
  },
  {
   "cell_type": "code",
   "execution_count": 67,
   "id": "d72a59e1",
   "metadata": {},
   "outputs": [
    {
     "name": "stdout",
     "output_type": "stream",
     "text": [
      "Enter your list size: 5\n",
      "Enter your list number: 2\n",
      "Enter your list number: 3\n",
      "Enter your list number: 4\n",
      "Enter your list number: 5\n",
      "Enter your list number: 6\n",
      "[2, 3, 4, 5, 6]\n"
     ]
    }
   ],
   "source": [
    "input_list = []\n",
    "list_size = int(input(\"Enter your list size: \"))\n",
    "for i in range(list_size):\n",
    "    my_list = int(input(\"Enter your list number: \"))\n",
    "    input_list.append(my_list)\n",
    "\n",
    "print(input_list)"
   ]
  },
  {
   "cell_type": "code",
   "execution_count": null,
   "id": "1e9804b6",
   "metadata": {},
   "outputs": [],
   "source": []
  }
 ],
 "metadata": {
  "kernelspec": {
   "display_name": "Python 3 (ipykernel)",
   "language": "python",
   "name": "python3"
  },
  "language_info": {
   "codemirror_mode": {
    "name": "ipython",
    "version": 3
   },
   "file_extension": ".py",
   "mimetype": "text/x-python",
   "name": "python",
   "nbconvert_exporter": "python",
   "pygments_lexer": "ipython3",
   "version": "3.11.5"
  }
 },
 "nbformat": 4,
 "nbformat_minor": 5
}
