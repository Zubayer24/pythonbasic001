{
 "cells": [
  {
   "cell_type": "markdown",
   "id": "b92932eb",
   "metadata": {},
   "source": [
    "# Function"
   ]
  },
  {
   "cell_type": "code",
   "execution_count": 1,
   "id": "7c5bb130",
   "metadata": {},
   "outputs": [],
   "source": [
    "def name():\n",
    "    print(\"Shakil\")\n",
    "    return 1"
   ]
  },
  {
   "cell_type": "code",
   "execution_count": 2,
   "id": "91a97bbf",
   "metadata": {},
   "outputs": [
    {
     "name": "stdout",
     "output_type": "stream",
     "text": [
      "Shakil\n"
     ]
    },
    {
     "data": {
      "text/plain": [
       "1"
      ]
     },
     "execution_count": 2,
     "metadata": {},
     "output_type": "execute_result"
    }
   ],
   "source": [
    "name()"
   ]
  },
  {
   "cell_type": "code",
   "execution_count": 10,
   "id": "ba94f8c3",
   "metadata": {},
   "outputs": [],
   "source": [
    "def name():\n",
    "    print(\"zubayer\")\n",
    "    return print(\"shakil\")"
   ]
  },
  {
   "cell_type": "code",
   "execution_count": 11,
   "id": "5133363c",
   "metadata": {},
   "outputs": [
    {
     "name": "stdout",
     "output_type": "stream",
     "text": [
      "zubayer\n",
      "shakil\n"
     ]
    }
   ],
   "source": [
    "name()"
   ]
  },
  {
   "cell_type": "code",
   "execution_count": 8,
   "id": "a8df05fb",
   "metadata": {},
   "outputs": [],
   "source": [
    "def dept(a,b):\n",
    "    x = a+b\n",
    "    print(x)\n",
    "    return name()"
   ]
  },
  {
   "cell_type": "code",
   "execution_count": 9,
   "id": "bef90fbc",
   "metadata": {},
   "outputs": [
    {
     "name": "stdout",
     "output_type": "stream",
     "text": [
      "60\n",
      "shakil\n"
     ]
    }
   ],
   "source": [
    "dept(20,40)"
   ]
  },
  {
   "cell_type": "code",
   "execution_count": 12,
   "id": "c843f0c1",
   "metadata": {},
   "outputs": [],
   "source": [
    "def add_num(a,b):\n",
    "    result = a+b\n",
    "    return result"
   ]
  },
  {
   "cell_type": "code",
   "execution_count": 13,
   "id": "9d07056e",
   "metadata": {},
   "outputs": [
    {
     "data": {
      "text/plain": [
       "50"
      ]
     },
     "execution_count": 13,
     "metadata": {},
     "output_type": "execute_result"
    }
   ],
   "source": [
    "add_num(20,30)"
   ]
  },
  {
   "cell_type": "code",
   "execution_count": 15,
   "id": "44ef8bf4",
   "metadata": {},
   "outputs": [
    {
     "data": {
      "text/plain": [
       "100"
      ]
     },
     "execution_count": 15,
     "metadata": {},
     "output_type": "execute_result"
    }
   ],
   "source": [
    "add_num(45,55)"
   ]
  },
  {
   "cell_type": "code",
   "execution_count": null,
   "id": "ccc6fdce",
   "metadata": {},
   "outputs": [],
   "source": []
  }
 ],
 "metadata": {
  "kernelspec": {
   "display_name": "Python 3 (ipykernel)",
   "language": "python",
   "name": "python3"
  },
  "language_info": {
   "codemirror_mode": {
    "name": "ipython",
    "version": 3
   },
   "file_extension": ".py",
   "mimetype": "text/x-python",
   "name": "python",
   "nbconvert_exporter": "python",
   "pygments_lexer": "ipython3",
   "version": "3.11.5"
  }
 },
 "nbformat": 4,
 "nbformat_minor": 5
}
