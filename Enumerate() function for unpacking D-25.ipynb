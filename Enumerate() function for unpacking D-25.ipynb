{
 "cells": [
  {
   "cell_type": "code",
   "execution_count": 2,
   "id": "e8c1c330",
   "metadata": {},
   "outputs": [],
   "source": [
    "id = (1,2,3)\n",
    "name = (\"Shakil\",\"Mehjabin\",\"Sohan\")"
   ]
  },
  {
   "cell_type": "code",
   "execution_count": 3,
   "id": "3e0405ff",
   "metadata": {},
   "outputs": [
    {
     "data": {
      "text/plain": [
       "((1, 'Shakil'), (2, 'Mehjabin'), (3, 'Sohan'))"
      ]
     },
     "execution_count": 3,
     "metadata": {},
     "output_type": "execute_result"
    }
   ],
   "source": [
    "zipped = tuple(zip(id,name))\n",
    "zipped"
   ]
  },
  {
   "cell_type": "code",
   "execution_count": 4,
   "id": "bc1dd5b2",
   "metadata": {},
   "outputs": [
    {
     "name": "stdout",
     "output_type": "stream",
     "text": [
      "1 Shakil\n",
      "2 Mehjabin\n",
      "3 Sohan\n"
     ]
    }
   ],
   "source": [
    "#unpacking using loop\n",
    "for ids,name in zipped:\n",
    "    print(ids,name)"
   ]
  },
  {
   "cell_type": "code",
   "execution_count": 5,
   "id": "0a07536b",
   "metadata": {},
   "outputs": [
    {
     "name": "stdout",
     "output_type": "stream",
     "text": [
      "0 (1, 'Shakil')\n",
      "1 (2, 'Mehjabin')\n",
      "2 (3, 'Sohan')\n"
     ]
    }
   ],
   "source": [
    "#Enumerating: iterate over pairs\n",
    "for ids,name in enumerate(zipped):\n",
    "    print(ids,name)"
   ]
  },
  {
   "cell_type": "code",
   "execution_count": 6,
   "id": "59e076b5",
   "metadata": {},
   "outputs": [
    {
     "name": "stdout",
     "output_type": "stream",
     "text": [
      "(0, (1, 'Shakil'))\n",
      "(1, (2, 'Mehjabin'))\n",
      "(2, (3, 'Sohan'))\n"
     ]
    }
   ],
   "source": [
    "#another way for Enumerating: iterate over pairs\n",
    "for data in enumerate(zipped):\n",
    "    ids,name = data\n",
    "    print(data)"
   ]
  },
  {
   "cell_type": "code",
   "execution_count": 7,
   "id": "a36edab0",
   "metadata": {},
   "outputs": [
    {
     "name": "stdout",
     "output_type": "stream",
     "text": [
      "Rank= 0,id = 1,Name =Shakil\n",
      "Rank= 1,id = 2,Name =Mehjabin\n",
      "Rank= 2,id = 3,Name =Sohan\n"
     ]
    }
   ],
   "source": [
    "for index, pair in enumerate(zipped):\n",
    "    ids,name = pair\n",
    "    print('Rank= {},id = {},Name ={}'.format(index,ids,name))"
   ]
  },
  {
   "cell_type": "code",
   "execution_count": null,
   "id": "b07eab24",
   "metadata": {},
   "outputs": [],
   "source": []
  }
 ],
 "metadata": {
  "kernelspec": {
   "display_name": "Python 3 (ipykernel)",
   "language": "python",
   "name": "python3"
  },
  "language_info": {
   "codemirror_mode": {
    "name": "ipython",
    "version": 3
   },
   "file_extension": ".py",
   "mimetype": "text/x-python",
   "name": "python",
   "nbconvert_exporter": "python",
   "pygments_lexer": "ipython3",
   "version": "3.11.5"
  }
 },
 "nbformat": 4,
 "nbformat_minor": 5
}
