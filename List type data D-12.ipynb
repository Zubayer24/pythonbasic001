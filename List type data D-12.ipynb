{
 "cells": [
  {
   "cell_type": "code",
   "execution_count": 1,
   "id": "9772d50d",
   "metadata": {},
   "outputs": [],
   "source": [
    "list = [5,6,7,8,\"Data Science\",\"Machine learning\"]"
   ]
  },
  {
   "cell_type": "code",
   "execution_count": 2,
   "id": "6f88451f",
   "metadata": {},
   "outputs": [
    {
     "data": {
      "text/plain": [
       "6"
      ]
     },
     "execution_count": 2,
     "metadata": {},
     "output_type": "execute_result"
    }
   ],
   "source": [
    "list[1]"
   ]
  },
  {
   "cell_type": "code",
   "execution_count": 3,
   "id": "c94a5150",
   "metadata": {},
   "outputs": [],
   "source": [
    "list[1] = \"Deep Learning\""
   ]
  },
  {
   "cell_type": "code",
   "execution_count": 4,
   "id": "07017d7f",
   "metadata": {},
   "outputs": [
    {
     "data": {
      "text/plain": [
       "[5, 'Deep Learning', 7, 8, 'Data Science', 'Machine learning']"
      ]
     },
     "execution_count": 4,
     "metadata": {},
     "output_type": "execute_result"
    }
   ],
   "source": [
    "list"
   ]
  },
  {
   "cell_type": "code",
   "execution_count": 5,
   "id": "2c71b53d",
   "metadata": {},
   "outputs": [],
   "source": [
    "list.append(2)"
   ]
  },
  {
   "cell_type": "code",
   "execution_count": 6,
   "id": "91d5abf3",
   "metadata": {},
   "outputs": [
    {
     "data": {
      "text/plain": [
       "[5, 'Deep Learning', 7, 8, 'Data Science', 'Machine learning', 2]"
      ]
     },
     "execution_count": 6,
     "metadata": {},
     "output_type": "execute_result"
    }
   ],
   "source": [
    "list"
   ]
  },
  {
   "cell_type": "code",
   "execution_count": 7,
   "id": "8b47931c",
   "metadata": {},
   "outputs": [],
   "source": [
    "list.insert(2,\"Zubayer\")"
   ]
  },
  {
   "cell_type": "code",
   "execution_count": 8,
   "id": "cdbdc6bd",
   "metadata": {},
   "outputs": [
    {
     "data": {
      "text/plain": [
       "[5, 'Deep Learning', 'Zubayer', 7, 8, 'Data Science', 'Machine learning', 2]"
      ]
     },
     "execution_count": 8,
     "metadata": {},
     "output_type": "execute_result"
    }
   ],
   "source": [
    "list"
   ]
  },
  {
   "cell_type": "code",
   "execution_count": 9,
   "id": "f3de845e",
   "metadata": {},
   "outputs": [
    {
     "data": {
      "text/plain": [
       "2"
      ]
     },
     "execution_count": 9,
     "metadata": {},
     "output_type": "execute_result"
    }
   ],
   "source": [
    "list.pop()"
   ]
  },
  {
   "cell_type": "code",
   "execution_count": 10,
   "id": "acef6a5c",
   "metadata": {},
   "outputs": [
    {
     "data": {
      "text/plain": [
       "7"
      ]
     },
     "execution_count": 10,
     "metadata": {},
     "output_type": "execute_result"
    }
   ],
   "source": [
    "list.pop(3)"
   ]
  },
  {
   "cell_type": "code",
   "execution_count": 11,
   "id": "7eca3671",
   "metadata": {},
   "outputs": [
    {
     "data": {
      "text/plain": [
       "[5, 'Deep Learning', 'Zubayer', 8, 'Data Science', 'Machine learning']"
      ]
     },
     "execution_count": 11,
     "metadata": {},
     "output_type": "execute_result"
    }
   ],
   "source": [
    "list"
   ]
  },
  {
   "cell_type": "code",
   "execution_count": 20,
   "id": "c6c6dcaa",
   "metadata": {},
   "outputs": [
    {
     "name": "stdout",
     "output_type": "stream",
     "text": [
      "Enter your total index: 3\n",
      "2\n",
      "3\n",
      "4\n",
      "['2', '3', '4']\n"
     ]
    }
   ],
   "source": [
    "#input list from user\n",
    "list1 = []\n",
    "n = int(input(\"Enter your total index: \"))\n",
    "for i in range(n):\n",
    "    new = input()\n",
    "    list1.append(new)\n",
    "print(list1)"
   ]
  },
  {
   "cell_type": "markdown",
   "id": "a940b4e5",
   "metadata": {},
   "source": [
    "# List methods"
   ]
  },
  {
   "cell_type": "code",
   "execution_count": 28,
   "id": "6a5d757b",
   "metadata": {},
   "outputs": [],
   "source": [
    "#copy\n",
    "list = [5,6,7,8,\"Data Science\",\"Machine learning\"]\n"
   ]
  },
  {
   "cell_type": "code",
   "execution_count": 29,
   "id": "cb645692",
   "metadata": {},
   "outputs": [],
   "source": [
    "list1 = list.copy()"
   ]
  },
  {
   "cell_type": "code",
   "execution_count": 30,
   "id": "cce48cf4",
   "metadata": {},
   "outputs": [
    {
     "data": {
      "text/plain": [
       "[5, 6, 7, 8, 'Data Science', 'Machine learning']"
      ]
     },
     "execution_count": 30,
     "metadata": {},
     "output_type": "execute_result"
    }
   ],
   "source": [
    "list1"
   ]
  },
  {
   "cell_type": "code",
   "execution_count": 35,
   "id": "5c3f754e",
   "metadata": {},
   "outputs": [],
   "source": [
    "#Append\n",
    "L1 = [2,56,59]\n",
    "list1.append(L1)  #append() adds an element to the end of the list. "
   ]
  },
  {
   "cell_type": "code",
   "execution_count": 36,
   "id": "c3eea69b",
   "metadata": {},
   "outputs": [
    {
     "data": {
      "text/plain": [
       "[5, 6, 7, 8, 'Data Science', 'Machine learning', [2, 56, 59], [2, 56, 59]]"
      ]
     },
     "execution_count": 36,
     "metadata": {},
     "output_type": "execute_result"
    }
   ],
   "source": [
    "list1"
   ]
  },
  {
   "cell_type": "code",
   "execution_count": 37,
   "id": "506e60a2",
   "metadata": {},
   "outputs": [],
   "source": [
    "#Extend\n",
    "list1.extend(L1)   #extend() adds all elements of a list to another list."
   ]
  },
  {
   "cell_type": "code",
   "execution_count": 38,
   "id": "e014fed4",
   "metadata": {},
   "outputs": [
    {
     "data": {
      "text/plain": [
       "[5,\n",
       " 6,\n",
       " 7,\n",
       " 8,\n",
       " 'Data Science',\n",
       " 'Machine learning',\n",
       " [2, 56, 59],\n",
       " [2, 56, 59],\n",
       " 2,\n",
       " 56,\n",
       " 59]"
      ]
     },
     "execution_count": 38,
     "metadata": {},
     "output_type": "execute_result"
    }
   ],
   "source": [
    "list1"
   ]
  },
  {
   "cell_type": "code",
   "execution_count": 39,
   "id": "d68ce0da",
   "metadata": {},
   "outputs": [],
   "source": [
    "#insert\n",
    "list1.insert(-4,\"Titumir college\")"
   ]
  },
  {
   "cell_type": "code",
   "execution_count": 40,
   "id": "6c8a7a9b",
   "metadata": {},
   "outputs": [
    {
     "data": {
      "text/plain": [
       "[5,\n",
       " 6,\n",
       " 7,\n",
       " 8,\n",
       " 'Data Science',\n",
       " 'Machine learning',\n",
       " [2, 56, 59],\n",
       " 'Titumir college',\n",
       " [2, 56, 59],\n",
       " 2,\n",
       " 56,\n",
       " 59]"
      ]
     },
     "execution_count": 40,
     "metadata": {},
     "output_type": "execute_result"
    }
   ],
   "source": [
    "list1"
   ]
  },
  {
   "cell_type": "code",
   "execution_count": 42,
   "id": "7ab6eee8",
   "metadata": {},
   "outputs": [
    {
     "data": {
      "text/plain": [
       "3"
      ]
     },
     "execution_count": 42,
     "metadata": {},
     "output_type": "execute_result"
    }
   ],
   "source": [
    "#insert\n",
    "list1.index(8)"
   ]
  },
  {
   "cell_type": "code",
   "execution_count": 43,
   "id": "97e8b9be",
   "metadata": {},
   "outputs": [
    {
     "data": {
      "text/plain": [
       "6"
      ]
     },
     "execution_count": 43,
     "metadata": {},
     "output_type": "execute_result"
    }
   ],
   "source": [
    "list1.index([2, 56, 59])"
   ]
  },
  {
   "cell_type": "code",
   "execution_count": 44,
   "id": "f33ab877",
   "metadata": {},
   "outputs": [
    {
     "data": {
      "text/plain": [
       "2"
      ]
     },
     "execution_count": 44,
     "metadata": {},
     "output_type": "execute_result"
    }
   ],
   "source": [
    "#Count\n",
    "list1.count([2, 56, 59])"
   ]
  },
  {
   "cell_type": "code",
   "execution_count": 45,
   "id": "6eca8682",
   "metadata": {},
   "outputs": [],
   "source": [
    "#Sort()\n",
    "list2 = [10,5,51,99,2,100]\n",
    "list2.sort()"
   ]
  },
  {
   "cell_type": "code",
   "execution_count": 46,
   "id": "dcbc1acc",
   "metadata": {},
   "outputs": [
    {
     "data": {
      "text/plain": [
       "[2, 5, 10, 51, 99, 100]"
      ]
     },
     "execution_count": 46,
     "metadata": {},
     "output_type": "execute_result"
    }
   ],
   "source": [
    "list2"
   ]
  },
  {
   "cell_type": "code",
   "execution_count": 47,
   "id": "fc5e2ce6",
   "metadata": {},
   "outputs": [],
   "source": [
    "#Reverse()\n",
    "list2.reverse()"
   ]
  },
  {
   "cell_type": "code",
   "execution_count": 48,
   "id": "2bcb1c53",
   "metadata": {},
   "outputs": [
    {
     "data": {
      "text/plain": [
       "[100, 99, 51, 10, 5, 2]"
      ]
     },
     "execution_count": 48,
     "metadata": {},
     "output_type": "execute_result"
    }
   ],
   "source": [
    "list2"
   ]
  },
  {
   "cell_type": "code",
   "execution_count": 49,
   "id": "404c19cb",
   "metadata": {},
   "outputs": [
    {
     "data": {
      "text/plain": [
       "[99, 51, 10, 5, 2]"
      ]
     },
     "execution_count": 49,
     "metadata": {},
     "output_type": "execute_result"
    }
   ],
   "source": [
    "#Remove\n",
    "list2.remove(100)\n",
    "list2"
   ]
  },
  {
   "cell_type": "code",
   "execution_count": 50,
   "id": "1ef67482",
   "metadata": {},
   "outputs": [
    {
     "data": {
      "text/plain": [
       "[99, 51, 10, 5]"
      ]
     },
     "execution_count": 50,
     "metadata": {},
     "output_type": "execute_result"
    }
   ],
   "source": [
    "#pop\n",
    "list2.pop(-1)\n",
    "list2"
   ]
  },
  {
   "cell_type": "code",
   "execution_count": 51,
   "id": "12aca0d8",
   "metadata": {},
   "outputs": [
    {
     "data": {
      "text/plain": [
       "[51, 10, 5]"
      ]
     },
     "execution_count": 51,
     "metadata": {},
     "output_type": "execute_result"
    }
   ],
   "source": [
    "#del\n",
    "del list2[0]\n",
    "list2"
   ]
  },
  {
   "cell_type": "code",
   "execution_count": 52,
   "id": "e2df3259",
   "metadata": {},
   "outputs": [
    {
     "data": {
      "text/plain": [
       "[]"
      ]
     },
     "execution_count": 52,
     "metadata": {},
     "output_type": "execute_result"
    }
   ],
   "source": [
    "#Clear\n",
    "list2.clear()\n",
    "list2"
   ]
  },
  {
   "cell_type": "code",
   "execution_count": 53,
   "id": "f2a6ca9c",
   "metadata": {},
   "outputs": [
    {
     "data": {
      "text/plain": [
       "list"
      ]
     },
     "execution_count": 53,
     "metadata": {},
     "output_type": "execute_result"
    }
   ],
   "source": [
    "type(list2)"
   ]
  },
  {
   "cell_type": "code",
   "execution_count": null,
   "id": "784b8f48",
   "metadata": {},
   "outputs": [],
   "source": []
  }
 ],
 "metadata": {
  "kernelspec": {
   "display_name": "Python 3 (ipykernel)",
   "language": "python",
   "name": "python3"
  },
  "language_info": {
   "codemirror_mode": {
    "name": "ipython",
    "version": 3
   },
   "file_extension": ".py",
   "mimetype": "text/x-python",
   "name": "python",
   "nbconvert_exporter": "python",
   "pygments_lexer": "ipython3",
   "version": "3.11.5"
  }
 },
 "nbformat": 4,
 "nbformat_minor": 5
}
