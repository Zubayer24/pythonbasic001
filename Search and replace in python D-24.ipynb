{
 "cells": [
  {
   "cell_type": "markdown",
   "id": "f6cf8089",
   "metadata": {},
   "source": [
    "# How to search and replace text in a file in python "
   ]
  },
  {
   "cell_type": "code",
   "execution_count": 2,
   "id": "357e3674",
   "metadata": {},
   "outputs": [],
   "source": [
    "search_word = 'Barcelona'\n",
    "replace_word = 'Real Madrid'\n",
    "\n",
    "with open(r'Note-2.txt','r') as file:\n",
    "    data = file.read()\n",
    "    data = data.replace(search_word,replace_word)"
   ]
  },
  {
   "cell_type": "code",
   "execution_count": 3,
   "id": "4641e222",
   "metadata": {},
   "outputs": [],
   "source": [
    "with open(r'Note-2.txt','w') as file:\n",
    "    file.write(data)"
   ]
  },
  {
   "cell_type": "markdown",
   "id": "99d18986",
   "metadata": {},
   "source": [
    "# How to search and replace text from a str in python"
   ]
  },
  {
   "cell_type": "code",
   "execution_count": 1,
   "id": "dd44d710",
   "metadata": {},
   "outputs": [
    {
     "data": {
      "text/plain": [
       "'You have got to be selected by a Real Madrid team.'"
      ]
     },
     "execution_count": 1,
     "metadata": {},
     "output_type": "execute_result"
    }
   ],
   "source": [
    "text = \"You have got to be selected by a Bayern Munich team.\"\n",
    "search_word = 'Bayern Munich'\n",
    "replace_word = 'Real Madrid'\n",
    "import re\n",
    "re.sub(search_word,replace_word,text)"
   ]
  },
  {
   "cell_type": "code",
   "execution_count": null,
   "id": "2d1d6948",
   "metadata": {},
   "outputs": [],
   "source": []
  }
 ],
 "metadata": {
  "kernelspec": {
   "display_name": "Python 3 (ipykernel)",
   "language": "python",
   "name": "python3"
  },
  "language_info": {
   "codemirror_mode": {
    "name": "ipython",
    "version": 3
   },
   "file_extension": ".py",
   "mimetype": "text/x-python",
   "name": "python",
   "nbconvert_exporter": "python",
   "pygments_lexer": "ipython3",
   "version": "3.11.5"
  }
 },
 "nbformat": 4,
 "nbformat_minor": 5
}
