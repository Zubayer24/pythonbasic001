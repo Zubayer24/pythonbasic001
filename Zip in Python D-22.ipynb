{
 "cells": [
  {
   "cell_type": "markdown",
   "id": "cf367ed3",
   "metadata": {},
   "source": [
    "# Zip"
   ]
  },
  {
   "cell_type": "code",
   "execution_count": 1,
   "id": "d1a4dedf",
   "metadata": {},
   "outputs": [],
   "source": [
    "name = [\"Zubayer\",\"rizbi\",\"Sadi\"]\n",
    "varsity = [\"Titumir\",\"Titumir\",\"DIU\"]"
   ]
  },
  {
   "cell_type": "code",
   "execution_count": 2,
   "id": "42882e3f",
   "metadata": {},
   "outputs": [],
   "source": [
    "zipped = list(zip(name,varsity))"
   ]
  },
  {
   "cell_type": "code",
   "execution_count": 3,
   "id": "c006ab08",
   "metadata": {},
   "outputs": [
    {
     "name": "stdout",
     "output_type": "stream",
     "text": [
      "[('Zubayer', 'Titumir'), ('rizbi', 'Titumir'), ('Sadi', 'DIU')]\n"
     ]
    }
   ],
   "source": [
    "print(zipped)"
   ]
  },
  {
   "cell_type": "code",
   "execution_count": 4,
   "id": "37a7cfff",
   "metadata": {},
   "outputs": [
    {
     "name": "stdout",
     "output_type": "stream",
     "text": [
      "(('Zubayer', 'Titumir'), ('rizbi', 'Titumir'), ('Sadi', 'DIU'))\n"
     ]
    }
   ],
   "source": [
    "zipped = tuple(zip(name,varsity))\n",
    "print(zipped)"
   ]
  },
  {
   "cell_type": "code",
   "execution_count": 5,
   "id": "9414a1f4",
   "metadata": {},
   "outputs": [
    {
     "name": "stdout",
     "output_type": "stream",
     "text": [
      "{'Zubayer': 'Titumir', 'rizbi': 'Titumir', 'Sadi': 'DIU'}\n"
     ]
    }
   ],
   "source": [
    "zipped = dict(zip(name,varsity))\n",
    "print(zipped)"
   ]
  },
  {
   "cell_type": "markdown",
   "id": "6bf13576",
   "metadata": {},
   "source": [
    "# Unzip"
   ]
  },
  {
   "cell_type": "code",
   "execution_count": 13,
   "id": "45e8a0ec",
   "metadata": {},
   "outputs": [],
   "source": [
    "zipped = list(zip(name,varsity))"
   ]
  },
  {
   "cell_type": "code",
   "execution_count": 14,
   "id": "c60e79fc",
   "metadata": {},
   "outputs": [
    {
     "data": {
      "text/plain": [
       "[('Zubayer', 'Titumir'), ('rizbi', 'Titumir'), ('Sadi', 'DIU')]"
      ]
     },
     "execution_count": 14,
     "metadata": {},
     "output_type": "execute_result"
    }
   ],
   "source": [
    "zipped"
   ]
  },
  {
   "cell_type": "code",
   "execution_count": 15,
   "id": "0a74871b",
   "metadata": {},
   "outputs": [],
   "source": [
    "name1 , varsity1 = zip(*zipped)"
   ]
  },
  {
   "cell_type": "code",
   "execution_count": 16,
   "id": "c67a81ae",
   "metadata": {},
   "outputs": [
    {
     "data": {
      "text/plain": [
       "('Zubayer', 'rizbi', 'Sadi')"
      ]
     },
     "execution_count": 16,
     "metadata": {},
     "output_type": "execute_result"
    }
   ],
   "source": [
    "name1"
   ]
  },
  {
   "cell_type": "code",
   "execution_count": 18,
   "id": "7b04ba0f",
   "metadata": {},
   "outputs": [
    {
     "data": {
      "text/plain": [
       "('Titumir', 'Titumir', 'DIU')"
      ]
     },
     "execution_count": 18,
     "metadata": {},
     "output_type": "execute_result"
    }
   ],
   "source": [
    "varsity1"
   ]
  },
  {
   "cell_type": "code",
   "execution_count": null,
   "id": "6d444f4e",
   "metadata": {},
   "outputs": [],
   "source": []
  }
 ],
 "metadata": {
  "kernelspec": {
   "display_name": "Python 3 (ipykernel)",
   "language": "python",
   "name": "python3"
  },
  "language_info": {
   "codemirror_mode": {
    "name": "ipython",
    "version": 3
   },
   "file_extension": ".py",
   "mimetype": "text/x-python",
   "name": "python",
   "nbconvert_exporter": "python",
   "pygments_lexer": "ipython3",
   "version": "3.11.5"
  }
 },
 "nbformat": 4,
 "nbformat_minor": 5
}
