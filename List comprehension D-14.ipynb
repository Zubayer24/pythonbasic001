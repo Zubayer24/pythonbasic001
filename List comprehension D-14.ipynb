{
 "cells": [
  {
   "cell_type": "markdown",
   "id": "c569420d",
   "metadata": {},
   "source": [
    "# List comprehension:elegant way to create lists."
   ]
  },
  {
   "cell_type": "code",
   "execution_count": null,
   "id": "5e646baf",
   "metadata": {},
   "outputs": [],
   "source": [
    "#list comprehension is an elegant and concise way to create a new list from an existing list in python.\n",
    "#A list comprehension consists of an expression followed by \"for\" statement inside sq. bracket.\n"
   ]
  },
  {
   "cell_type": "code",
   "execution_count": 1,
   "id": "1c7d066a",
   "metadata": {},
   "outputs": [
    {
     "data": {
      "text/plain": [
       "[0, 1, 2, 3, 4, 5, 6, 7, 8, 9]"
      ]
     },
     "execution_count": 1,
     "metadata": {},
     "output_type": "execute_result"
    }
   ],
   "source": [
    "list1 = []\n",
    "for x in range(10):\n",
    "    list1.append(x)\n",
    "list1"
   ]
  },
  {
   "cell_type": "code",
   "execution_count": 2,
   "id": "93721be5",
   "metadata": {},
   "outputs": [
    {
     "data": {
      "text/plain": [
       "[0, 1, 2, 3, 4, 5, 6, 7, 8, 9]"
      ]
     },
     "execution_count": 2,
     "metadata": {},
     "output_type": "execute_result"
    }
   ],
   "source": [
    "list2 = [x for x in range(10)]\n",
    "list2"
   ]
  },
  {
   "cell_type": "code",
   "execution_count": 3,
   "id": "5fde390d",
   "metadata": {},
   "outputs": [
    {
     "data": {
      "text/plain": [
       "[0, 2, 4, 6, 8]"
      ]
     },
     "execution_count": 3,
     "metadata": {},
     "output_type": "execute_result"
    }
   ],
   "source": [
    "list3 = []\n",
    "for x in range(10):\n",
    "    if x%2 == 0:  #for even number\n",
    "        list3.append(x)\n",
    "list3"
   ]
  },
  {
   "cell_type": "code",
   "execution_count": 4,
   "id": "b8f785b1",
   "metadata": {},
   "outputs": [
    {
     "data": {
      "text/plain": [
       "[1, 3, 5, 7, 9]"
      ]
     },
     "execution_count": 4,
     "metadata": {},
     "output_type": "execute_result"
    }
   ],
   "source": [
    "list4 = []\n",
    "for x in range(10):\n",
    "    if x%2 == 1:  #for odd number\n",
    "        list4.append(x)\n",
    "list4"
   ]
  },
  {
   "cell_type": "code",
   "execution_count": 5,
   "id": "85b7d08e",
   "metadata": {},
   "outputs": [
    {
     "data": {
      "text/plain": [
       "[0, 2, 4, 6, 8]"
      ]
     },
     "execution_count": 5,
     "metadata": {},
     "output_type": "execute_result"
    }
   ],
   "source": [
    "list5 = [x for x in range(10) if x%2 ==0]   #for even with list comprehension.\n",
    "list5"
   ]
  },
  {
   "cell_type": "code",
   "execution_count": 6,
   "id": "b643f5cb",
   "metadata": {},
   "outputs": [
    {
     "data": {
      "text/plain": [
       "[1, 3, 5, 7, 9]"
      ]
     },
     "execution_count": 6,
     "metadata": {},
     "output_type": "execute_result"
    }
   ],
   "source": [
    "list6 = [x for x in range(10) if x%2 == 1]   # for odd with list comprehension.\n",
    "list6"
   ]
  },
  {
   "cell_type": "code",
   "execution_count": 7,
   "id": "c94a1086",
   "metadata": {},
   "outputs": [],
   "source": [
    "#iteration through list\n",
    "list7 = [\"ai\",\"data science\",1,2,3,4,5]\n",
    "list8 = [x for x in list7]"
   ]
  },
  {
   "cell_type": "code",
   "execution_count": 8,
   "id": "a6698dbf",
   "metadata": {},
   "outputs": [
    {
     "data": {
      "text/plain": [
       "['ai', 'data science', 1, 2, 3, 4, 5]"
      ]
     },
     "execution_count": 8,
     "metadata": {},
     "output_type": "execute_result"
    }
   ],
   "source": [
    "list8"
   ]
  },
  {
   "cell_type": "code",
   "execution_count": 9,
   "id": "037d5ad1",
   "metadata": {},
   "outputs": [
    {
     "data": {
      "text/plain": [
       "['data science', 1, 2, 3, 4, 5]"
      ]
     },
     "execution_count": 9,
     "metadata": {},
     "output_type": "execute_result"
    }
   ],
   "source": [
    "list8 = [x for x in list7 if x!=\"ai\"]\n",
    "list8"
   ]
  },
  {
   "cell_type": "code",
   "execution_count": 10,
   "id": "d81873c0",
   "metadata": {},
   "outputs": [],
   "source": [
    "list9 = [2**x for x in range(10)]"
   ]
  },
  {
   "cell_type": "code",
   "execution_count": 11,
   "id": "42f48170",
   "metadata": {},
   "outputs": [
    {
     "data": {
      "text/plain": [
       "[1, 2, 4, 8, 16, 32, 64, 128, 256, 512]"
      ]
     },
     "execution_count": 11,
     "metadata": {},
     "output_type": "execute_result"
    }
   ],
   "source": [
    "list9"
   ]
  },
  {
   "cell_type": "code",
   "execution_count": 12,
   "id": "261c37df",
   "metadata": {},
   "outputs": [
    {
     "data": {
      "text/plain": [
       "[1, 2, 4, 8, 16, 32, 64, 128, 256, 512]"
      ]
     },
     "execution_count": 12,
     "metadata": {},
     "output_type": "execute_result"
    }
   ],
   "source": [
    "#list membership testing\n",
    "list9"
   ]
  },
  {
   "cell_type": "code",
   "execution_count": 13,
   "id": "da7d75b3",
   "metadata": {},
   "outputs": [
    {
     "data": {
      "text/plain": [
       "True"
      ]
     },
     "execution_count": 13,
     "metadata": {},
     "output_type": "execute_result"
    }
   ],
   "source": [
    "16 in list9"
   ]
  },
  {
   "cell_type": "code",
   "execution_count": 14,
   "id": "943b700c",
   "metadata": {},
   "outputs": [
    {
     "data": {
      "text/plain": [
       "False"
      ]
     },
     "execution_count": 14,
     "metadata": {},
     "output_type": "execute_result"
    }
   ],
   "source": [
    "10 in list9"
   ]
  }
 ],
 "metadata": {
  "kernelspec": {
   "display_name": "Python 3 (ipykernel)",
   "language": "python",
   "name": "python3"
  },
  "language_info": {
   "codemirror_mode": {
    "name": "ipython",
    "version": 3
   },
   "file_extension": ".py",
   "mimetype": "text/x-python",
   "name": "python",
   "nbconvert_exporter": "python",
   "pygments_lexer": "ipython3",
   "version": "3.11.5"
  }
 },
 "nbformat": 4,
 "nbformat_minor": 5
}
